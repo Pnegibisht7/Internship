{
 "cells": [
  {
   "cell_type": "markdown",
   "id": "2d6ef8f3",
   "metadata": {},
   "source": [
    "# Q1: In this question you have to scrape data using the filters available on the webpage You have to use the location and salary filter.\n"
   ]
  },
  {
   "cell_type": "code",
   "execution_count": 9,
   "id": "b62c7e23",
   "metadata": {},
   "outputs": [
    {
     "name": "stdout",
     "output_type": "stream",
     "text": [
      "Requirement already satisfied: selenium in c:\\users\\ankit bisht\\anaconda3\\lib\\site-packages (4.19.0)\n",
      "Requirement already satisfied: urllib3[socks]<3,>=1.26 in c:\\users\\ankit bisht\\anaconda3\\lib\\site-packages (from selenium) (1.26.16)\n",
      "Requirement already satisfied: trio~=0.17 in c:\\users\\ankit bisht\\anaconda3\\lib\\site-packages (from selenium) (0.25.0)\n",
      "Requirement already satisfied: trio-websocket~=0.9 in c:\\users\\ankit bisht\\anaconda3\\lib\\site-packages (from selenium) (0.11.1)\n",
      "Requirement already satisfied: certifi>=2021.10.8 in c:\\users\\ankit bisht\\anaconda3\\lib\\site-packages (from selenium) (2023.7.22)\n",
      "Requirement already satisfied: typing_extensions>=4.9.0 in c:\\users\\ankit bisht\\anaconda3\\lib\\site-packages (from selenium) (4.11.0)\n",
      "Requirement already satisfied: attrs>=23.2.0 in c:\\users\\ankit bisht\\anaconda3\\lib\\site-packages (from trio~=0.17->selenium) (23.2.0)\n",
      "Requirement already satisfied: sortedcontainers in c:\\users\\ankit bisht\\anaconda3\\lib\\site-packages (from trio~=0.17->selenium) (2.4.0)\n",
      "Requirement already satisfied: idna in c:\\users\\ankit bisht\\anaconda3\\lib\\site-packages (from trio~=0.17->selenium) (3.4)\n",
      "Requirement already satisfied: outcome in c:\\users\\ankit bisht\\anaconda3\\lib\\site-packages (from trio~=0.17->selenium) (1.3.0.post0)\n",
      "Requirement already satisfied: sniffio>=1.3.0 in c:\\users\\ankit bisht\\anaconda3\\lib\\site-packages (from trio~=0.17->selenium) (1.3.1)\n",
      "Requirement already satisfied: cffi>=1.14 in c:\\users\\ankit bisht\\anaconda3\\lib\\site-packages (from trio~=0.17->selenium) (1.15.1)\n",
      "Requirement already satisfied: wsproto>=0.14 in c:\\users\\ankit bisht\\anaconda3\\lib\\site-packages (from trio-websocket~=0.9->selenium) (1.2.0)\n",
      "Requirement already satisfied: PySocks!=1.5.7,<2.0,>=1.5.6 in c:\\users\\ankit bisht\\anaconda3\\lib\\site-packages (from urllib3[socks]<3,>=1.26->selenium) (1.7.1)\n",
      "Requirement already satisfied: pycparser in c:\\users\\ankit bisht\\anaconda3\\lib\\site-packages (from cffi>=1.14->trio~=0.17->selenium) (2.21)\n",
      "Requirement already satisfied: h11<1,>=0.9.0 in c:\\users\\ankit bisht\\anaconda3\\lib\\site-packages (from wsproto>=0.14->trio-websocket~=0.9->selenium) (0.14.0)\n",
      "Note: you may need to restart the kernel to use updated packages.\n"
     ]
    }
   ],
   "source": [
    "pip install selenium "
   ]
  },
  {
   "cell_type": "code",
   "execution_count": 10,
   "id": "41679796",
   "metadata": {},
   "outputs": [],
   "source": [
    "import pandas as pd\n",
    "import selenium\n",
    "from selenium import webdriver\n",
    "from selenium.webdriver.common.by import By\n",
    "import time\n",
    "import warnings\n",
    "warnings.filterwarnings('ignore')\n",
    "import time"
   ]
  },
  {
   "cell_type": "code",
   "execution_count": 11,
   "id": "9f637568",
   "metadata": {},
   "outputs": [],
   "source": [
    "driver=webdriver.Chrome()\n",
    "driver.get('https://www.naukri.com/')"
   ]
  },
  {
   "cell_type": "code",
   "execution_count": 12,
   "id": "220c47b9",
   "metadata": {},
   "outputs": [],
   "source": [
    "designation=driver.find_element(By.CLASS_NAME,'suggestor-input')\n",
    "designation.send_keys('Data scientist')"
   ]
  },
  {
   "cell_type": "code",
   "execution_count": 13,
   "id": "607fb208",
   "metadata": {},
   "outputs": [],
   "source": [
    "location=driver.find_element(By.XPATH,'/html/body/div[1]/div[7]/div/div/div[5]/div/div/div/div[1]/div/input')\n",
    "location.send_keys('Delhi')"
   ]
  },
  {
   "cell_type": "code",
   "execution_count": 14,
   "id": "0ca9a1d4",
   "metadata": {},
   "outputs": [],
   "source": [
    "search=driver.find_element(By.CLASS_NAME,'qsbSubmit')\n",
    "search.click()"
   ]
  },
  {
   "cell_type": "code",
   "execution_count": 15,
   "id": "c999c8c2",
   "metadata": {},
   "outputs": [],
   "source": [
    "Job_title=[]\n",
    "job_location=[]\n",
    "company_name=[]\n",
    "experience_required=[]"
   ]
  },
  {
   "cell_type": "code",
   "execution_count": 16,
   "id": "fa4a5f2d",
   "metadata": {},
   "outputs": [],
   "source": [
    "i=0\n",
    "title_tag=driver.find_elements(By.XPATH,'//div[@class=\"cust-job-tuple layout-wrapper lay-2 sjw__tuple \"]/div/a')\n",
    "for element in title_tag:\n",
    "    if i>10:\n",
    "        break\n",
    "    title=element.text\n",
    "    Job_title.append(title)\n",
    "    i+=1"
   ]
  },
  {
   "cell_type": "code",
   "execution_count": 17,
   "id": "be1b132f",
   "metadata": {},
   "outputs": [
    {
     "data": {
      "text/plain": [
       "(0, 0, 0, 0)"
      ]
     },
     "execution_count": 17,
     "metadata": {},
     "output_type": "execute_result"
    }
   ],
   "source": [
    "len(Job_title),len(job_location),len(company_name),len(experience_required)"
   ]
  },
  {
   "cell_type": "code",
   "execution_count": 18,
   "id": "9f72872a",
   "metadata": {},
   "outputs": [],
   "source": [
    "i=0\n",
    "location_tag=driver.find_elements(By.XPATH,'//span[@class=\"locWdth\"]')\n",
    "for element in location_tag:\n",
    "    if i>10:\n",
    "        break\n",
    "    location=element.text\n",
    "    job_location.append(location)\n",
    "    i+=1\n",
    "        "
   ]
  },
  {
   "cell_type": "code",
   "execution_count": 19,
   "id": "5c19a53e",
   "metadata": {},
   "outputs": [],
   "source": [
    "company_tag=driver.find_elements(By.XPATH,'//div[@class=\" row2\"]/span/a[1]')\n",
    "i=0\n",
    "for element in company_tag:\n",
    "    if i>10:\n",
    "        break\n",
    "    company=element.text\n",
    "    company_name.append(company)\n",
    "    i+=1"
   ]
  },
  {
   "cell_type": "code",
   "execution_count": 20,
   "id": "a1184113",
   "metadata": {},
   "outputs": [],
   "source": [
    "experience_tag=driver.find_elements(By.XPATH,'//span[@class=\"expwdth\"]')\n",
    "i=0\n",
    "for element in experience_tag:\n",
    "    if i>10:\n",
    "        break\n",
    "    experience=element.text\n",
    "    experience_required.append(experience)\n",
    "    i+=1"
   ]
  },
  {
   "cell_type": "code",
   "execution_count": 21,
   "id": "8d3cb610",
   "metadata": {},
   "outputs": [
    {
     "data": {
      "text/html": [
       "<div>\n",
       "<style scoped>\n",
       "    .dataframe tbody tr th:only-of-type {\n",
       "        vertical-align: middle;\n",
       "    }\n",
       "\n",
       "    .dataframe tbody tr th {\n",
       "        vertical-align: top;\n",
       "    }\n",
       "\n",
       "    .dataframe thead th {\n",
       "        text-align: right;\n",
       "    }\n",
       "</style>\n",
       "<table border=\"1\" class=\"dataframe\">\n",
       "  <thead>\n",
       "    <tr style=\"text-align: right;\">\n",
       "      <th></th>\n",
       "      <th>Job_title</th>\n",
       "      <th>Job_location</th>\n",
       "      <th>Company_name</th>\n",
       "      <th>Experience_required</th>\n",
       "    </tr>\n",
       "  </thead>\n",
       "  <tbody>\n",
       "  </tbody>\n",
       "</table>\n",
       "</div>"
      ],
      "text/plain": [
       "Empty DataFrame\n",
       "Columns: [Job_title, Job_location, Company_name, Experience_required]\n",
       "Index: []"
      ]
     },
     "execution_count": 21,
     "metadata": {},
     "output_type": "execute_result"
    }
   ],
   "source": [
    "Job=pd.DataFrame({'Job_title':Job_title,'Job_location':job_location,'Company_name':company_name,'Experience_required':experience_required})\n",
    "Job"
   ]
  },
  {
   "cell_type": "code",
   "execution_count": null,
   "id": "ef40b7c4",
   "metadata": {},
   "outputs": [],
   "source": []
  },
  {
   "cell_type": "code",
   "execution_count": null,
   "id": "5eb5b976",
   "metadata": {},
   "outputs": [],
   "source": []
  },
  {
   "cell_type": "markdown",
   "id": "d5f187b8",
   "metadata": {},
   "source": [
    "# Q2: Write a python program to scrape data for “Data Scientist” Job position in “Bangalore” location. You have to scrape the job-title, job-location, company_name, experience_required. You have to scrape first 10 jobs data."
   ]
  },
  {
   "cell_type": "code",
   "execution_count": 22,
   "id": "452adf3a",
   "metadata": {},
   "outputs": [],
   "source": [
    "driver=webdriver.Chrome()\n",
    "driver.get('https://www.shine.com/')"
   ]
  },
  {
   "cell_type": "code",
   "execution_count": 23,
   "id": "ca3bc411",
   "metadata": {},
   "outputs": [
    {
     "ename": "NoSuchElementException",
     "evalue": "Message: no such element: Unable to locate element: {\"method\":\"xpath\",\"selector\":\"/html/body/div/div[2]/div/div/div[1]/div[1]/div/div[2]/div/div/form/div/div[1]/ul/li[1]/div/input\"}\n  (Session info: chrome=123.0.6312.122); For documentation on this error, please visit: https://www.selenium.dev/documentation/webdriver/troubleshooting/errors#no-such-element-exception\nStacktrace:\n\tGetHandleVerifier [0x00007FF61AE87032+63090]\n\t(No symbol) [0x00007FF61ADF2C82]\n\t(No symbol) [0x00007FF61AC8EC65]\n\t(No symbol) [0x00007FF61ACD499D]\n\t(No symbol) [0x00007FF61ACD4ADC]\n\t(No symbol) [0x00007FF61AD15B37]\n\t(No symbol) [0x00007FF61ACF701F]\n\t(No symbol) [0x00007FF61AD13412]\n\t(No symbol) [0x00007FF61ACF6D83]\n\t(No symbol) [0x00007FF61ACC83A8]\n\t(No symbol) [0x00007FF61ACC9441]\n\tGetHandleVerifier [0x00007FF61B2825AD+4238317]\n\tGetHandleVerifier [0x00007FF61B2BF70D+4488525]\n\tGetHandleVerifier [0x00007FF61B2B79EF+4456495]\n\tGetHandleVerifier [0x00007FF61AF60576+953270]\n\t(No symbol) [0x00007FF61ADFE54F]\n\t(No symbol) [0x00007FF61ADF9224]\n\t(No symbol) [0x00007FF61ADF935B]\n\t(No symbol) [0x00007FF61ADE9B94]\n\tBaseThreadInitThunk [0x00007FFFC579257D+29]\n\tRtlUserThreadStart [0x00007FFFC5D4AA48+40]\n",
     "output_type": "error",
     "traceback": [
      "\u001b[1;31m---------------------------------------------------------------------------\u001b[0m",
      "\u001b[1;31mNoSuchElementException\u001b[0m                    Traceback (most recent call last)",
      "Cell \u001b[1;32mIn[23], line 1\u001b[0m\n\u001b[1;32m----> 1\u001b[0m designation\u001b[38;5;241m=\u001b[39mdriver\u001b[38;5;241m.\u001b[39mfind_element(By\u001b[38;5;241m.\u001b[39mXPATH,\u001b[38;5;124m'\u001b[39m\u001b[38;5;124m/html/body/div/div[2]/div/div/div[1]/div[1]/div/div[2]/div/div/form/div/div[1]/ul/li[1]/div/input\u001b[39m\u001b[38;5;124m'\u001b[39m)\n\u001b[0;32m      2\u001b[0m designation\u001b[38;5;241m.\u001b[39msend_keys(\u001b[38;5;124m'\u001b[39m\u001b[38;5;124mData analyst\u001b[39m\u001b[38;5;124m'\u001b[39m)\n",
      "File \u001b[1;32m~\\anaconda3\\Lib\\site-packages\\selenium\\webdriver\\remote\\webdriver.py:741\u001b[0m, in \u001b[0;36mWebDriver.find_element\u001b[1;34m(self, by, value)\u001b[0m\n\u001b[0;32m    738\u001b[0m     by \u001b[38;5;241m=\u001b[39m By\u001b[38;5;241m.\u001b[39mCSS_SELECTOR\n\u001b[0;32m    739\u001b[0m     value \u001b[38;5;241m=\u001b[39m \u001b[38;5;124mf\u001b[39m\u001b[38;5;124m'\u001b[39m\u001b[38;5;124m[name=\u001b[39m\u001b[38;5;124m\"\u001b[39m\u001b[38;5;132;01m{\u001b[39;00mvalue\u001b[38;5;132;01m}\u001b[39;00m\u001b[38;5;124m\"\u001b[39m\u001b[38;5;124m]\u001b[39m\u001b[38;5;124m'\u001b[39m\n\u001b[1;32m--> 741\u001b[0m \u001b[38;5;28;01mreturn\u001b[39;00m \u001b[38;5;28mself\u001b[39m\u001b[38;5;241m.\u001b[39mexecute(Command\u001b[38;5;241m.\u001b[39mFIND_ELEMENT, {\u001b[38;5;124m\"\u001b[39m\u001b[38;5;124musing\u001b[39m\u001b[38;5;124m\"\u001b[39m: by, \u001b[38;5;124m\"\u001b[39m\u001b[38;5;124mvalue\u001b[39m\u001b[38;5;124m\"\u001b[39m: value})[\u001b[38;5;124m\"\u001b[39m\u001b[38;5;124mvalue\u001b[39m\u001b[38;5;124m\"\u001b[39m]\n",
      "File \u001b[1;32m~\\anaconda3\\Lib\\site-packages\\selenium\\webdriver\\remote\\webdriver.py:347\u001b[0m, in \u001b[0;36mWebDriver.execute\u001b[1;34m(self, driver_command, params)\u001b[0m\n\u001b[0;32m    345\u001b[0m response \u001b[38;5;241m=\u001b[39m \u001b[38;5;28mself\u001b[39m\u001b[38;5;241m.\u001b[39mcommand_executor\u001b[38;5;241m.\u001b[39mexecute(driver_command, params)\n\u001b[0;32m    346\u001b[0m \u001b[38;5;28;01mif\u001b[39;00m response:\n\u001b[1;32m--> 347\u001b[0m     \u001b[38;5;28mself\u001b[39m\u001b[38;5;241m.\u001b[39merror_handler\u001b[38;5;241m.\u001b[39mcheck_response(response)\n\u001b[0;32m    348\u001b[0m     response[\u001b[38;5;124m\"\u001b[39m\u001b[38;5;124mvalue\u001b[39m\u001b[38;5;124m\"\u001b[39m] \u001b[38;5;241m=\u001b[39m \u001b[38;5;28mself\u001b[39m\u001b[38;5;241m.\u001b[39m_unwrap_value(response\u001b[38;5;241m.\u001b[39mget(\u001b[38;5;124m\"\u001b[39m\u001b[38;5;124mvalue\u001b[39m\u001b[38;5;124m\"\u001b[39m, \u001b[38;5;28;01mNone\u001b[39;00m))\n\u001b[0;32m    349\u001b[0m     \u001b[38;5;28;01mreturn\u001b[39;00m response\n",
      "File \u001b[1;32m~\\anaconda3\\Lib\\site-packages\\selenium\\webdriver\\remote\\errorhandler.py:229\u001b[0m, in \u001b[0;36mErrorHandler.check_response\u001b[1;34m(self, response)\u001b[0m\n\u001b[0;32m    227\u001b[0m         alert_text \u001b[38;5;241m=\u001b[39m value[\u001b[38;5;124m\"\u001b[39m\u001b[38;5;124malert\u001b[39m\u001b[38;5;124m\"\u001b[39m]\u001b[38;5;241m.\u001b[39mget(\u001b[38;5;124m\"\u001b[39m\u001b[38;5;124mtext\u001b[39m\u001b[38;5;124m\"\u001b[39m)\n\u001b[0;32m    228\u001b[0m     \u001b[38;5;28;01mraise\u001b[39;00m exception_class(message, screen, stacktrace, alert_text)  \u001b[38;5;66;03m# type: ignore[call-arg]  # mypy is not smart enough here\u001b[39;00m\n\u001b[1;32m--> 229\u001b[0m \u001b[38;5;28;01mraise\u001b[39;00m exception_class(message, screen, stacktrace)\n",
      "\u001b[1;31mNoSuchElementException\u001b[0m: Message: no such element: Unable to locate element: {\"method\":\"xpath\",\"selector\":\"/html/body/div/div[2]/div/div/div[1]/div[1]/div/div[2]/div/div/form/div/div[1]/ul/li[1]/div/input\"}\n  (Session info: chrome=123.0.6312.122); For documentation on this error, please visit: https://www.selenium.dev/documentation/webdriver/troubleshooting/errors#no-such-element-exception\nStacktrace:\n\tGetHandleVerifier [0x00007FF61AE87032+63090]\n\t(No symbol) [0x00007FF61ADF2C82]\n\t(No symbol) [0x00007FF61AC8EC65]\n\t(No symbol) [0x00007FF61ACD499D]\n\t(No symbol) [0x00007FF61ACD4ADC]\n\t(No symbol) [0x00007FF61AD15B37]\n\t(No symbol) [0x00007FF61ACF701F]\n\t(No symbol) [0x00007FF61AD13412]\n\t(No symbol) [0x00007FF61ACF6D83]\n\t(No symbol) [0x00007FF61ACC83A8]\n\t(No symbol) [0x00007FF61ACC9441]\n\tGetHandleVerifier [0x00007FF61B2825AD+4238317]\n\tGetHandleVerifier [0x00007FF61B2BF70D+4488525]\n\tGetHandleVerifier [0x00007FF61B2B79EF+4456495]\n\tGetHandleVerifier [0x00007FF61AF60576+953270]\n\t(No symbol) [0x00007FF61ADFE54F]\n\t(No symbol) [0x00007FF61ADF9224]\n\t(No symbol) [0x00007FF61ADF935B]\n\t(No symbol) [0x00007FF61ADE9B94]\n\tBaseThreadInitThunk [0x00007FFFC579257D+29]\n\tRtlUserThreadStart [0x00007FFFC5D4AA48+40]\n"
     ]
    }
   ],
   "source": [
    "designation=driver.find_element(By.XPATH,'/html/body/div/div[2]/div/div/div[1]/div[1]/div/div[2]/div/div/form/div/div[1]/ul/li[1]/div/input')\n",
    "designation.send_keys('Data analyst')"
   ]
  },
  {
   "cell_type": "code",
   "execution_count": null,
   "id": "fc8c2412",
   "metadata": {},
   "outputs": [],
   "source": [
    "location=driver.find_element(By.XPATH,'/html/body/div/div[2]/div/div/div[1]/div[1]/div/div[2]/div/div/form/div/div[1]/ul/li[2]/div/input')\n",
    "location.send_keys('Bangalore')"
   ]
  },
  {
   "cell_type": "code",
   "execution_count": null,
   "id": "5bda0337",
   "metadata": {},
   "outputs": [],
   "source": [
    "search=driver.find_element(By.XPATH,'/html/body/div/div[2]/div/div/div[1]/div[1]/div/div[2]/div/div/form/div/div[2]/div/button')\n",
    "search.click()"
   ]
  },
  {
   "cell_type": "code",
   "execution_count": null,
   "id": "f5d260d1",
   "metadata": {},
   "outputs": [],
   "source": [
    "job_title=[]\n",
    "i=0\n",
    " \n",
    "title_tag=driver.find_elements(By.XPATH,'//h2[@itemprop=\"name\"]//a')\n",
    "for tag in title_tag:\n",
    "    if i>=10:\n",
    "        break\n",
    "    job_title.append(tag.text)\n",
    "    i+=1\n",
    "    "
   ]
  },
  {
   "cell_type": "code",
   "execution_count": null,
   "id": "6979539f",
   "metadata": {},
   "outputs": [],
   "source": [
    "job_locations=[]\n",
    "i=0\n",
    "\n",
    "location_tag=driver.find_elements(By.XPATH,'//div[@class=\" jobCard_jobCard_lists_item__YxRkV jobCard_locationIcon__zrWt2\"]')\n",
    "for tag in location_tag:\n",
    "    if i>=10:\n",
    "        break\n",
    "    result=tag.text.split('\\n')[0]    \n",
    "    job_locations.append(result) \n",
    "    i+=1"
   ]
  },
  {
   "cell_type": "code",
   "execution_count": null,
   "id": "9d30a8f9",
   "metadata": {},
   "outputs": [],
   "source": [
    "company_name=[]\n",
    "i=0\n",
    "name_tag=driver.find_elements(By.XPATH,'//div[@class=\"jobCard_jobCard_cName__mYnow\"]//span')\n",
    "for tag in name_tag:\n",
    "    if i>=10:\n",
    "        break\n",
    "    company_name.append(tag.text) \n",
    "    i+=1"
   ]
  },
  {
   "cell_type": "code",
   "execution_count": null,
   "id": "4611ee30",
   "metadata": {},
   "outputs": [],
   "source": [
    "experience_required=[]\n",
    "i=0\n",
    "\n",
    "experience_tag=driver.find_elements(By.XPATH,'//div[@class=\" jobCard_jobCard_lists_item__YxRkV jobCard_jobIcon__3FB1t\"]')\n",
    "for tag in experience_tag:\n",
    "    if i>=10:\n",
    "        break\n",
    "    experience_required.append(tag.text.strip())\n",
    "    i+=1"
   ]
  },
  {
   "cell_type": "code",
   "execution_count": null,
   "id": "94e150c2",
   "metadata": {},
   "outputs": [],
   "source": [
    "len(job_title),len(job_locations),len(company_name),len(experience_required)"
   ]
  },
  {
   "cell_type": "code",
   "execution_count": null,
   "id": "9cbf8b6b",
   "metadata": {},
   "outputs": [],
   "source": [
    "Job=pd.DataFrame({'Job_title':job_title,'Job_location':job_locations,'Company_name':company_name,'Experience_required':experience_required})\n",
    "Job"
   ]
  },
  {
   "cell_type": "markdown",
   "id": "6c7c116f",
   "metadata": {},
   "source": [
    "# Q3: Scrape 100 reviews data from flipkart.com for iphone11 phone. You have to go the link:\n",
    "https://www.flipkart.com/apple-iphone-11-black-64-gb/productreviews/itm4e5041ba101fd?pid=MOBFWQ6BXGJCEYNY&lid=LSTMOBFWQ6BXGJCEYNYZXSHRJ&marketplace=FLIPKART"
   ]
  },
  {
   "cell_type": "code",
   "execution_count": 24,
   "id": "000b7b8f",
   "metadata": {},
   "outputs": [],
   "source": [
    "driver=webdriver.Chrome()\n",
    "driver.get('https://www.flipkart.com/apple-iphone-11-black-64-gb/product-reviews/itm4e5041ba101fd?pid=MOBFWQ6BXGJCEYNY&lid=LSTMOBFWQ6BXGJCEYNYZXSHRJ&marketplace=FLIPKART')"
   ]
  },
  {
   "cell_type": "code",
   "execution_count": 25,
   "id": "bd254b44",
   "metadata": {},
   "outputs": [],
   "source": [
    "Rtng=[]\n",
    "start=0\n",
    "end=10\n",
    "\n",
    "for page in range (start,end):\n",
    "    rating_tag=driver.find_elements(By.XPATH,'//div[@class=\"_3LWZlK _1BLPMq\"]')\n",
    "    for tag in rating_tag:\n",
    "        Rtng.append(tag.text)\n",
    "    next_button = driver.find_element(By.XPATH, '//a[@class=\"_1LKTO3\"]')\n",
    "    next_button.click()\n",
    "    time.sleep(3)"
   ]
  },
  {
   "cell_type": "code",
   "execution_count": 26,
   "id": "8cafcb63",
   "metadata": {},
   "outputs": [],
   "source": [
    "review_sumary=[]\n",
    "start=0\n",
    "end=10\n",
    "\n",
    "for page in range(start,end):\n",
    "    summary_tag=driver.find_elements(By.XPATH,'//p[@class=\"_2-N8zT\"]')\n",
    "    for tag in summary_tag:\n",
    "        review_sumary.append(tag.text)\n",
    "    next_button = driver.find_element(By.XPATH, '//a[@class=\"_1LKTO3\"]')\n",
    "    next_button.click()\n",
    "    time.sleep(10)"
   ]
  },
  {
   "cell_type": "code",
   "execution_count": 27,
   "id": "85df9408",
   "metadata": {},
   "outputs": [],
   "source": [
    "Ful_review=[]\n",
    "start=0\n",
    "end=10\n",
    "\n",
    "for page in range(start,end):\n",
    "    review_tag=driver.find_elements(By.XPATH,'//div[@class=\"t-ZTKy\"]')\n",
    "    for tag in review_tag:\n",
    "        Ful_review.append(tag.text)\n",
    "    next_button = driver.find_element(By.XPATH, '//a[@class=\"_1LKTO3\"]')\n",
    "    next_button.click()\n",
    "    time.sleep(3)"
   ]
  },
  {
   "cell_type": "code",
   "execution_count": 28,
   "id": "6713d4bf",
   "metadata": {},
   "outputs": [
    {
     "data": {
      "text/plain": [
       "(100, 100, 100)"
      ]
     },
     "execution_count": 28,
     "metadata": {},
     "output_type": "execute_result"
    }
   ],
   "source": [
    "len(Rtng),len(review_sumary),len(Ful_review)"
   ]
  },
  {
   "cell_type": "code",
   "execution_count": 29,
   "id": "e93fdfae",
   "metadata": {},
   "outputs": [
    {
     "data": {
      "text/html": [
       "<div>\n",
       "<style scoped>\n",
       "    .dataframe tbody tr th:only-of-type {\n",
       "        vertical-align: middle;\n",
       "    }\n",
       "\n",
       "    .dataframe tbody tr th {\n",
       "        vertical-align: top;\n",
       "    }\n",
       "\n",
       "    .dataframe thead th {\n",
       "        text-align: right;\n",
       "    }\n",
       "</style>\n",
       "<table border=\"1\" class=\"dataframe\">\n",
       "  <thead>\n",
       "    <tr style=\"text-align: right;\">\n",
       "      <th></th>\n",
       "      <th>Rating</th>\n",
       "      <th>review_summary</th>\n",
       "      <th>Full_review</th>\n",
       "    </tr>\n",
       "  </thead>\n",
       "  <tbody>\n",
       "    <tr>\n",
       "      <th>0</th>\n",
       "      <td>5</td>\n",
       "      <td>Perfect product!</td>\n",
       "      <td>Photos super</td>\n",
       "    </tr>\n",
       "    <tr>\n",
       "      <th>1</th>\n",
       "      <td>5</td>\n",
       "      <td>Worth every penny</td>\n",
       "      <td>Feeling awesome after getting the delivery of ...</td>\n",
       "    </tr>\n",
       "    <tr>\n",
       "      <th>2</th>\n",
       "      <td>5</td>\n",
       "      <td>Best in the market!</td>\n",
       "      <td>Good Camera</td>\n",
       "    </tr>\n",
       "    <tr>\n",
       "      <th>3</th>\n",
       "      <td>5</td>\n",
       "      <td>Wonderful</td>\n",
       "      <td>This is amazing at all</td>\n",
       "    </tr>\n",
       "    <tr>\n",
       "      <th>4</th>\n",
       "      <td>5</td>\n",
       "      <td>Terrific purchase</td>\n",
       "      <td>Value for money 😍</td>\n",
       "    </tr>\n",
       "    <tr>\n",
       "      <th>...</th>\n",
       "      <td>...</td>\n",
       "      <td>...</td>\n",
       "      <td>...</td>\n",
       "    </tr>\n",
       "    <tr>\n",
       "      <th>95</th>\n",
       "      <td>5</td>\n",
       "      <td>Fabulous!</td>\n",
       "      <td>It’s very good battery life and display and vi...</td>\n",
       "    </tr>\n",
       "    <tr>\n",
       "      <th>96</th>\n",
       "      <td>5</td>\n",
       "      <td>Highly recommended</td>\n",
       "      <td>Awesome Battery Life...Camera clarity is too g...</td>\n",
       "    </tr>\n",
       "    <tr>\n",
       "      <th>97</th>\n",
       "      <td>5</td>\n",
       "      <td>Brilliant</td>\n",
       "      <td>Excellent Phone.</td>\n",
       "    </tr>\n",
       "    <tr>\n",
       "      <th>98</th>\n",
       "      <td>5</td>\n",
       "      <td>Must buy!</td>\n",
       "      <td>Go for iPhone 11 , if confused between iPhone ...</td>\n",
       "    </tr>\n",
       "    <tr>\n",
       "      <th>99</th>\n",
       "      <td>5</td>\n",
       "      <td>Best in the market!</td>\n",
       "      <td>Superbb performance n camera is awesome 😍😍</td>\n",
       "    </tr>\n",
       "  </tbody>\n",
       "</table>\n",
       "<p>100 rows × 3 columns</p>\n",
       "</div>"
      ],
      "text/plain": [
       "   Rating       review_summary  \\\n",
       "0       5     Perfect product!   \n",
       "1       5    Worth every penny   \n",
       "2       5  Best in the market!   \n",
       "3       5            Wonderful   \n",
       "4       5    Terrific purchase   \n",
       "..    ...                  ...   \n",
       "95      5            Fabulous!   \n",
       "96      5   Highly recommended   \n",
       "97      5            Brilliant   \n",
       "98      5            Must buy!   \n",
       "99      5  Best in the market!   \n",
       "\n",
       "                                          Full_review  \n",
       "0                                        Photos super  \n",
       "1   Feeling awesome after getting the delivery of ...  \n",
       "2                                         Good Camera  \n",
       "3                              This is amazing at all  \n",
       "4                                   Value for money 😍  \n",
       "..                                                ...  \n",
       "95  It’s very good battery life and display and vi...  \n",
       "96  Awesome Battery Life...Camera clarity is too g...  \n",
       "97                                   Excellent Phone.  \n",
       "98  Go for iPhone 11 , if confused between iPhone ...  \n",
       "99         Superbb performance n camera is awesome 😍😍  \n",
       "\n",
       "[100 rows x 3 columns]"
      ]
     },
     "execution_count": 29,
     "metadata": {},
     "output_type": "execute_result"
    }
   ],
   "source": [
    "Reviews=pd.DataFrame({'Rating':Rtng,'review_summary':review_sumary,'Full_review':Ful_review})\n",
    "Reviews"
   ]
  },
  {
   "cell_type": "markdown",
   "id": "3ee46c2b",
   "metadata": {},
   "source": [
    "# Q4: Scrape data forfirst 100 sneakers you find whenyouvisitflipkart.com and search for “sneakers” inthe search\n",
    "field.\n",
    "You have to scrape 3 attributes of each sneaker:\n",
    "1. Brand\n",
    "2. ProductDescription\n",
    "3. Price"
   ]
  },
  {
   "cell_type": "code",
   "execution_count": 30,
   "id": "54a56b1c",
   "metadata": {},
   "outputs": [],
   "source": [
    "driver=webdriver.Chrome()\n",
    "driver.get('https://www.flipkart.com/')"
   ]
  },
  {
   "cell_type": "code",
   "execution_count": 31,
   "id": "67012ff3",
   "metadata": {},
   "outputs": [],
   "source": [
    "input=driver.find_element(By.XPATH,'//input[@class=\"Pke_EE\"]')\n",
    "input.send_keys('Sneakers')"
   ]
  },
  {
   "cell_type": "code",
   "execution_count": 32,
   "id": "7a921719",
   "metadata": {},
   "outputs": [
    {
     "ename": "NoSuchElementException",
     "evalue": "Message: no such element: Unable to locate element: {\"method\":\"xpath\",\"selector\":\"//a[@class=\"_1LKTO3\"]\"}\n  (Session info: chrome=123.0.6312.122); For documentation on this error, please visit: https://www.selenium.dev/documentation/webdriver/troubleshooting/errors#no-such-element-exception\nStacktrace:\n\tGetHandleVerifier [0x00007FF61AE87032+63090]\n\t(No symbol) [0x00007FF61ADF2C82]\n\t(No symbol) [0x00007FF61AC8EC65]\n\t(No symbol) [0x00007FF61ACD499D]\n\t(No symbol) [0x00007FF61ACD4ADC]\n\t(No symbol) [0x00007FF61AD15B37]\n\t(No symbol) [0x00007FF61ACF701F]\n\t(No symbol) [0x00007FF61AD13412]\n\t(No symbol) [0x00007FF61ACF6D83]\n\t(No symbol) [0x00007FF61ACC83A8]\n\t(No symbol) [0x00007FF61ACC9441]\n\tGetHandleVerifier [0x00007FF61B2825AD+4238317]\n\tGetHandleVerifier [0x00007FF61B2BF70D+4488525]\n\tGetHandleVerifier [0x00007FF61B2B79EF+4456495]\n\tGetHandleVerifier [0x00007FF61AF60576+953270]\n\t(No symbol) [0x00007FF61ADFE54F]\n\t(No symbol) [0x00007FF61ADF9224]\n\t(No symbol) [0x00007FF61ADF935B]\n\t(No symbol) [0x00007FF61ADE9B94]\n\tBaseThreadInitThunk [0x00007FFFC579257D+29]\n\tRtlUserThreadStart [0x00007FFFC5D4AA48+40]\n",
     "output_type": "error",
     "traceback": [
      "\u001b[1;31m---------------------------------------------------------------------------\u001b[0m",
      "\u001b[1;31mNoSuchElementException\u001b[0m                    Traceback (most recent call last)",
      "Cell \u001b[1;32mIn[32], line 13\u001b[0m\n\u001b[0;32m     11\u001b[0m     brands\u001b[38;5;241m.\u001b[39mappend(tag\u001b[38;5;241m.\u001b[39mtext)\n\u001b[0;32m     12\u001b[0m     i\u001b[38;5;241m+\u001b[39m\u001b[38;5;241m=\u001b[39m\u001b[38;5;241m1\u001b[39m\n\u001b[1;32m---> 13\u001b[0m next_page\u001b[38;5;241m=\u001b[39mdriver\u001b[38;5;241m.\u001b[39mfind_element(By\u001b[38;5;241m.\u001b[39mXPATH,\u001b[38;5;124m'\u001b[39m\u001b[38;5;124m//a[@class=\u001b[39m\u001b[38;5;124m\"\u001b[39m\u001b[38;5;124m_1LKTO3\u001b[39m\u001b[38;5;124m\"\u001b[39m\u001b[38;5;124m]\u001b[39m\u001b[38;5;124m'\u001b[39m)\n\u001b[0;32m     14\u001b[0m next_page\u001b[38;5;241m.\u001b[39mclick()\n\u001b[0;32m     15\u001b[0m time\u001b[38;5;241m.\u001b[39msleep(\u001b[38;5;241m3\u001b[39m)\n",
      "File \u001b[1;32m~\\anaconda3\\Lib\\site-packages\\selenium\\webdriver\\remote\\webdriver.py:741\u001b[0m, in \u001b[0;36mWebDriver.find_element\u001b[1;34m(self, by, value)\u001b[0m\n\u001b[0;32m    738\u001b[0m     by \u001b[38;5;241m=\u001b[39m By\u001b[38;5;241m.\u001b[39mCSS_SELECTOR\n\u001b[0;32m    739\u001b[0m     value \u001b[38;5;241m=\u001b[39m \u001b[38;5;124mf\u001b[39m\u001b[38;5;124m'\u001b[39m\u001b[38;5;124m[name=\u001b[39m\u001b[38;5;124m\"\u001b[39m\u001b[38;5;132;01m{\u001b[39;00mvalue\u001b[38;5;132;01m}\u001b[39;00m\u001b[38;5;124m\"\u001b[39m\u001b[38;5;124m]\u001b[39m\u001b[38;5;124m'\u001b[39m\n\u001b[1;32m--> 741\u001b[0m \u001b[38;5;28;01mreturn\u001b[39;00m \u001b[38;5;28mself\u001b[39m\u001b[38;5;241m.\u001b[39mexecute(Command\u001b[38;5;241m.\u001b[39mFIND_ELEMENT, {\u001b[38;5;124m\"\u001b[39m\u001b[38;5;124musing\u001b[39m\u001b[38;5;124m\"\u001b[39m: by, \u001b[38;5;124m\"\u001b[39m\u001b[38;5;124mvalue\u001b[39m\u001b[38;5;124m\"\u001b[39m: value})[\u001b[38;5;124m\"\u001b[39m\u001b[38;5;124mvalue\u001b[39m\u001b[38;5;124m\"\u001b[39m]\n",
      "File \u001b[1;32m~\\anaconda3\\Lib\\site-packages\\selenium\\webdriver\\remote\\webdriver.py:347\u001b[0m, in \u001b[0;36mWebDriver.execute\u001b[1;34m(self, driver_command, params)\u001b[0m\n\u001b[0;32m    345\u001b[0m response \u001b[38;5;241m=\u001b[39m \u001b[38;5;28mself\u001b[39m\u001b[38;5;241m.\u001b[39mcommand_executor\u001b[38;5;241m.\u001b[39mexecute(driver_command, params)\n\u001b[0;32m    346\u001b[0m \u001b[38;5;28;01mif\u001b[39;00m response:\n\u001b[1;32m--> 347\u001b[0m     \u001b[38;5;28mself\u001b[39m\u001b[38;5;241m.\u001b[39merror_handler\u001b[38;5;241m.\u001b[39mcheck_response(response)\n\u001b[0;32m    348\u001b[0m     response[\u001b[38;5;124m\"\u001b[39m\u001b[38;5;124mvalue\u001b[39m\u001b[38;5;124m\"\u001b[39m] \u001b[38;5;241m=\u001b[39m \u001b[38;5;28mself\u001b[39m\u001b[38;5;241m.\u001b[39m_unwrap_value(response\u001b[38;5;241m.\u001b[39mget(\u001b[38;5;124m\"\u001b[39m\u001b[38;5;124mvalue\u001b[39m\u001b[38;5;124m\"\u001b[39m, \u001b[38;5;28;01mNone\u001b[39;00m))\n\u001b[0;32m    349\u001b[0m     \u001b[38;5;28;01mreturn\u001b[39;00m response\n",
      "File \u001b[1;32m~\\anaconda3\\Lib\\site-packages\\selenium\\webdriver\\remote\\errorhandler.py:229\u001b[0m, in \u001b[0;36mErrorHandler.check_response\u001b[1;34m(self, response)\u001b[0m\n\u001b[0;32m    227\u001b[0m         alert_text \u001b[38;5;241m=\u001b[39m value[\u001b[38;5;124m\"\u001b[39m\u001b[38;5;124malert\u001b[39m\u001b[38;5;124m\"\u001b[39m]\u001b[38;5;241m.\u001b[39mget(\u001b[38;5;124m\"\u001b[39m\u001b[38;5;124mtext\u001b[39m\u001b[38;5;124m\"\u001b[39m)\n\u001b[0;32m    228\u001b[0m     \u001b[38;5;28;01mraise\u001b[39;00m exception_class(message, screen, stacktrace, alert_text)  \u001b[38;5;66;03m# type: ignore[call-arg]  # mypy is not smart enough here\u001b[39;00m\n\u001b[1;32m--> 229\u001b[0m \u001b[38;5;28;01mraise\u001b[39;00m exception_class(message, screen, stacktrace)\n",
      "\u001b[1;31mNoSuchElementException\u001b[0m: Message: no such element: Unable to locate element: {\"method\":\"xpath\",\"selector\":\"//a[@class=\"_1LKTO3\"]\"}\n  (Session info: chrome=123.0.6312.122); For documentation on this error, please visit: https://www.selenium.dev/documentation/webdriver/troubleshooting/errors#no-such-element-exception\nStacktrace:\n\tGetHandleVerifier [0x00007FF61AE87032+63090]\n\t(No symbol) [0x00007FF61ADF2C82]\n\t(No symbol) [0x00007FF61AC8EC65]\n\t(No symbol) [0x00007FF61ACD499D]\n\t(No symbol) [0x00007FF61ACD4ADC]\n\t(No symbol) [0x00007FF61AD15B37]\n\t(No symbol) [0x00007FF61ACF701F]\n\t(No symbol) [0x00007FF61AD13412]\n\t(No symbol) [0x00007FF61ACF6D83]\n\t(No symbol) [0x00007FF61ACC83A8]\n\t(No symbol) [0x00007FF61ACC9441]\n\tGetHandleVerifier [0x00007FF61B2825AD+4238317]\n\tGetHandleVerifier [0x00007FF61B2BF70D+4488525]\n\tGetHandleVerifier [0x00007FF61B2B79EF+4456495]\n\tGetHandleVerifier [0x00007FF61AF60576+953270]\n\t(No symbol) [0x00007FF61ADFE54F]\n\t(No symbol) [0x00007FF61ADF9224]\n\t(No symbol) [0x00007FF61ADF935B]\n\t(No symbol) [0x00007FF61ADE9B94]\n\tBaseThreadInitThunk [0x00007FFFC579257D+29]\n\tRtlUserThreadStart [0x00007FFFC5D4AA48+40]\n"
     ]
    }
   ],
   "source": [
    "brands=[]\n",
    "start=0\n",
    "end=3\n",
    "i=0\n",
    "\n",
    "for page in range(start,end):\n",
    "    brand_tag=driver.find_elements(By.XPATH,'//div[@class=\"_2WkVRV\"]')\n",
    "    for tag in brand_tag:\n",
    "        if i>=100:\n",
    "            break\n",
    "        brands.append(tag.text)\n",
    "        i+=1\n",
    "    next_page=driver.find_element(By.XPATH,'//a[@class=\"_1LKTO3\"]')\n",
    "    next_page.click()\n",
    "    time.sleep(3)\n",
    "       "
   ]
  },
  {
   "cell_type": "code",
   "execution_count": null,
   "id": "9d7c4378",
   "metadata": {},
   "outputs": [],
   "source": [
    "product_description=[]\n",
    "start=0\n",
    "end=3\n",
    "i=0\n",
    "\n",
    "for page in range(start,end):\n",
    "    description_tag=driver.find_elements(By.XPATH,'//div[@class=\"_2B099V\"]//a[1]')\n",
    "    for tag in description_tag:\n",
    "        if i>=100:\n",
    "            break\n",
    "        product_description.append(tag.text)\n",
    "        i+=1\n",
    "    next_page=driver.find_element(By.XPATH,'//a[@class=\"_1LKTO3\"]')\n",
    "    next_page.click()\n",
    "    time.sleep(3)"
   ]
  },
  {
   "cell_type": "code",
   "execution_count": null,
   "id": "530872e6",
   "metadata": {},
   "outputs": [],
   "source": [
    "price=[]\n",
    "start=0\n",
    "end=3\n",
    "i=0\n",
    "\n",
    "for page in range(start,end):\n",
    "    price_tag=driver.find_elements(By.XPATH,'//div[@class=\"_30jeq3\"]')\n",
    "    for tag in price_tag:\n",
    "        if i>=100:\n",
    "            break\n",
    "        price.append(tag.text)\n",
    "        i+=1\n",
    "    next_page=driver.find_element(By.XPATH,'//a[@class=\"_1LKTO3\"]')\n",
    "    next_page.click()\n",
    "    time.sleep(3)"
   ]
  },
  {
   "cell_type": "code",
   "execution_count": null,
   "id": "dd5942f3",
   "metadata": {},
   "outputs": [],
   "source": [
    "len(brands),len(product_description),len(price)"
   ]
  },
  {
   "cell_type": "code",
   "execution_count": null,
   "id": "f5b84af4",
   "metadata": {},
   "outputs": [],
   "source": [
    "Sneakers=pd.DataFrame({'Brand':brands,'Product_description':product_description,'Price':price})\n",
    "Sneakers"
   ]
  },
  {
   "cell_type": "markdown",
   "id": "26496e2d",
   "metadata": {},
   "source": [
    "# Q5: Go to webpage https://www.amazon.in/ Enter “Laptop” in the search field and then click the search icon. Then set CPU\n",
    "Type filter to “Intel Core i7” as shown in the below image:Aftersetting the filters scrape first 10 laptops data. You have to scrape 3 attributes for each laptop:\n",
    "1. Title\n",
    "2. Ratings\n",
    "3. Price"
   ]
  },
  {
   "cell_type": "code",
   "execution_count": 34,
   "id": "31664f06",
   "metadata": {},
   "outputs": [],
   "source": [
    "driver=webdriver.Chrome()\n",
    "driver.get('http://www.amazon.in/')"
   ]
  },
  {
   "cell_type": "code",
   "execution_count": 35,
   "id": "fdaded18",
   "metadata": {},
   "outputs": [],
   "source": [
    "enter=driver.find_element(By.XPATH,'/html/body/div[1]/header/div/div[1]/div[2]/div/form/div[2]/div[1]/input')\n",
    "enter.send_keys('Laptop')"
   ]
  },
  {
   "cell_type": "code",
   "execution_count": 36,
   "id": "801e4138",
   "metadata": {},
   "outputs": [],
   "source": [
    "search=driver.find_element(By.XPATH,'/html/body/div[1]/header/div/div[1]/div[2]/div/form/div[3]/div/span/input')\n",
    "search.click()"
   ]
  },
  {
   "cell_type": "code",
   "execution_count": 33,
   "id": "55175812",
   "metadata": {},
   "outputs": [
    {
     "ename": "NoSuchElementException",
     "evalue": "Message: no such element: Unable to locate element: {\"method\":\"xpath\",\"selector\":\"/html/body/div[1]/div[1]/div[1]/div[2]/div/div[3]/span/div[1]/div/div/div[6]/div[19]/span\"}\n  (Session info: chrome=123.0.6312.122); For documentation on this error, please visit: https://www.selenium.dev/documentation/webdriver/troubleshooting/errors#no-such-element-exception\nStacktrace:\n\tGetHandleVerifier [0x00007FF61AE87032+63090]\n\t(No symbol) [0x00007FF61ADF2C82]\n\t(No symbol) [0x00007FF61AC8EC65]\n\t(No symbol) [0x00007FF61ACD499D]\n\t(No symbol) [0x00007FF61ACD4ADC]\n\t(No symbol) [0x00007FF61AD15B37]\n\t(No symbol) [0x00007FF61ACF701F]\n\t(No symbol) [0x00007FF61AD13412]\n\t(No symbol) [0x00007FF61ACF6D83]\n\t(No symbol) [0x00007FF61ACC83A8]\n\t(No symbol) [0x00007FF61ACC9441]\n\tGetHandleVerifier [0x00007FF61B2825AD+4238317]\n\tGetHandleVerifier [0x00007FF61B2BF70D+4488525]\n\tGetHandleVerifier [0x00007FF61B2B79EF+4456495]\n\tGetHandleVerifier [0x00007FF61AF60576+953270]\n\t(No symbol) [0x00007FF61ADFE54F]\n\t(No symbol) [0x00007FF61ADF9224]\n\t(No symbol) [0x00007FF61ADF935B]\n\t(No symbol) [0x00007FF61ADE9B94]\n\tBaseThreadInitThunk [0x00007FFFC579257D+29]\n\tRtlUserThreadStart [0x00007FFFC5D4AA48+40]\n",
     "output_type": "error",
     "traceback": [
      "\u001b[1;31m---------------------------------------------------------------------------\u001b[0m",
      "\u001b[1;31mNoSuchElementException\u001b[0m                    Traceback (most recent call last)",
      "Cell \u001b[1;32mIn[33], line 1\u001b[0m\n\u001b[1;32m----> 1\u001b[0m Filter\u001b[38;5;241m=\u001b[39mdriver\u001b[38;5;241m.\u001b[39mfind_element(By\u001b[38;5;241m.\u001b[39mXPATH,\u001b[38;5;124m'\u001b[39m\u001b[38;5;124m/html/body/div[1]/div[1]/div[1]/div[2]/div/div[3]/span/div[1]/div/div/div[6]/div[19]/span\u001b[39m\u001b[38;5;124m'\u001b[39m)\n",
      "File \u001b[1;32m~\\anaconda3\\Lib\\site-packages\\selenium\\webdriver\\remote\\webdriver.py:741\u001b[0m, in \u001b[0;36mWebDriver.find_element\u001b[1;34m(self, by, value)\u001b[0m\n\u001b[0;32m    738\u001b[0m     by \u001b[38;5;241m=\u001b[39m By\u001b[38;5;241m.\u001b[39mCSS_SELECTOR\n\u001b[0;32m    739\u001b[0m     value \u001b[38;5;241m=\u001b[39m \u001b[38;5;124mf\u001b[39m\u001b[38;5;124m'\u001b[39m\u001b[38;5;124m[name=\u001b[39m\u001b[38;5;124m\"\u001b[39m\u001b[38;5;132;01m{\u001b[39;00mvalue\u001b[38;5;132;01m}\u001b[39;00m\u001b[38;5;124m\"\u001b[39m\u001b[38;5;124m]\u001b[39m\u001b[38;5;124m'\u001b[39m\n\u001b[1;32m--> 741\u001b[0m \u001b[38;5;28;01mreturn\u001b[39;00m \u001b[38;5;28mself\u001b[39m\u001b[38;5;241m.\u001b[39mexecute(Command\u001b[38;5;241m.\u001b[39mFIND_ELEMENT, {\u001b[38;5;124m\"\u001b[39m\u001b[38;5;124musing\u001b[39m\u001b[38;5;124m\"\u001b[39m: by, \u001b[38;5;124m\"\u001b[39m\u001b[38;5;124mvalue\u001b[39m\u001b[38;5;124m\"\u001b[39m: value})[\u001b[38;5;124m\"\u001b[39m\u001b[38;5;124mvalue\u001b[39m\u001b[38;5;124m\"\u001b[39m]\n",
      "File \u001b[1;32m~\\anaconda3\\Lib\\site-packages\\selenium\\webdriver\\remote\\webdriver.py:347\u001b[0m, in \u001b[0;36mWebDriver.execute\u001b[1;34m(self, driver_command, params)\u001b[0m\n\u001b[0;32m    345\u001b[0m response \u001b[38;5;241m=\u001b[39m \u001b[38;5;28mself\u001b[39m\u001b[38;5;241m.\u001b[39mcommand_executor\u001b[38;5;241m.\u001b[39mexecute(driver_command, params)\n\u001b[0;32m    346\u001b[0m \u001b[38;5;28;01mif\u001b[39;00m response:\n\u001b[1;32m--> 347\u001b[0m     \u001b[38;5;28mself\u001b[39m\u001b[38;5;241m.\u001b[39merror_handler\u001b[38;5;241m.\u001b[39mcheck_response(response)\n\u001b[0;32m    348\u001b[0m     response[\u001b[38;5;124m\"\u001b[39m\u001b[38;5;124mvalue\u001b[39m\u001b[38;5;124m\"\u001b[39m] \u001b[38;5;241m=\u001b[39m \u001b[38;5;28mself\u001b[39m\u001b[38;5;241m.\u001b[39m_unwrap_value(response\u001b[38;5;241m.\u001b[39mget(\u001b[38;5;124m\"\u001b[39m\u001b[38;5;124mvalue\u001b[39m\u001b[38;5;124m\"\u001b[39m, \u001b[38;5;28;01mNone\u001b[39;00m))\n\u001b[0;32m    349\u001b[0m     \u001b[38;5;28;01mreturn\u001b[39;00m response\n",
      "File \u001b[1;32m~\\anaconda3\\Lib\\site-packages\\selenium\\webdriver\\remote\\errorhandler.py:229\u001b[0m, in \u001b[0;36mErrorHandler.check_response\u001b[1;34m(self, response)\u001b[0m\n\u001b[0;32m    227\u001b[0m         alert_text \u001b[38;5;241m=\u001b[39m value[\u001b[38;5;124m\"\u001b[39m\u001b[38;5;124malert\u001b[39m\u001b[38;5;124m\"\u001b[39m]\u001b[38;5;241m.\u001b[39mget(\u001b[38;5;124m\"\u001b[39m\u001b[38;5;124mtext\u001b[39m\u001b[38;5;124m\"\u001b[39m)\n\u001b[0;32m    228\u001b[0m     \u001b[38;5;28;01mraise\u001b[39;00m exception_class(message, screen, stacktrace, alert_text)  \u001b[38;5;66;03m# type: ignore[call-arg]  # mypy is not smart enough here\u001b[39;00m\n\u001b[1;32m--> 229\u001b[0m \u001b[38;5;28;01mraise\u001b[39;00m exception_class(message, screen, stacktrace)\n",
      "\u001b[1;31mNoSuchElementException\u001b[0m: Message: no such element: Unable to locate element: {\"method\":\"xpath\",\"selector\":\"/html/body/div[1]/div[1]/div[1]/div[2]/div/div[3]/span/div[1]/div/div/div[6]/div[19]/span\"}\n  (Session info: chrome=123.0.6312.122); For documentation on this error, please visit: https://www.selenium.dev/documentation/webdriver/troubleshooting/errors#no-such-element-exception\nStacktrace:\n\tGetHandleVerifier [0x00007FF61AE87032+63090]\n\t(No symbol) [0x00007FF61ADF2C82]\n\t(No symbol) [0x00007FF61AC8EC65]\n\t(No symbol) [0x00007FF61ACD499D]\n\t(No symbol) [0x00007FF61ACD4ADC]\n\t(No symbol) [0x00007FF61AD15B37]\n\t(No symbol) [0x00007FF61ACF701F]\n\t(No symbol) [0x00007FF61AD13412]\n\t(No symbol) [0x00007FF61ACF6D83]\n\t(No symbol) [0x00007FF61ACC83A8]\n\t(No symbol) [0x00007FF61ACC9441]\n\tGetHandleVerifier [0x00007FF61B2825AD+4238317]\n\tGetHandleVerifier [0x00007FF61B2BF70D+4488525]\n\tGetHandleVerifier [0x00007FF61B2B79EF+4456495]\n\tGetHandleVerifier [0x00007FF61AF60576+953270]\n\t(No symbol) [0x00007FF61ADFE54F]\n\t(No symbol) [0x00007FF61ADF9224]\n\t(No symbol) [0x00007FF61ADF935B]\n\t(No symbol) [0x00007FF61ADE9B94]\n\tBaseThreadInitThunk [0x00007FFFC579257D+29]\n\tRtlUserThreadStart [0x00007FFFC5D4AA48+40]\n"
     ]
    }
   ],
   "source": [
    "Filter=driver.find_element(By.XPATH,'/html/body/div[1]/div[1]/div[1]/div[2]/div/div[3]/span/div[1]/div/div/div[6]/div[19]/span')\n"
   ]
  },
  {
   "cell_type": "code",
   "execution_count": 37,
   "id": "a06c6492",
   "metadata": {},
   "outputs": [
    {
     "ename": "NoSuchElementException",
     "evalue": "Message: no such element: Unable to locate element: {\"method\":\"xpath\",\"selector\":\"/html/body/div[1]/div[1]/div[1]/div[2]/div/div[3]/span/div[1]/div/div/div[6]/ul[19]/span/span[9]/li/span/a/span\"}\n  (Session info: chrome=123.0.6312.122); For documentation on this error, please visit: https://www.selenium.dev/documentation/webdriver/troubleshooting/errors#no-such-element-exception\nStacktrace:\n\tGetHandleVerifier [0x00007FF61AE87032+63090]\n\t(No symbol) [0x00007FF61ADF2C82]\n\t(No symbol) [0x00007FF61AC8EC65]\n\t(No symbol) [0x00007FF61ACD499D]\n\t(No symbol) [0x00007FF61ACD4ADC]\n\t(No symbol) [0x00007FF61AD15B37]\n\t(No symbol) [0x00007FF61ACF701F]\n\t(No symbol) [0x00007FF61AD13412]\n\t(No symbol) [0x00007FF61ACF6D83]\n\t(No symbol) [0x00007FF61ACC83A8]\n\t(No symbol) [0x00007FF61ACC9441]\n\tGetHandleVerifier [0x00007FF61B2825AD+4238317]\n\tGetHandleVerifier [0x00007FF61B2BF70D+4488525]\n\tGetHandleVerifier [0x00007FF61B2B79EF+4456495]\n\tGetHandleVerifier [0x00007FF61AF60576+953270]\n\t(No symbol) [0x00007FF61ADFE54F]\n\t(No symbol) [0x00007FF61ADF9224]\n\t(No symbol) [0x00007FF61ADF935B]\n\t(No symbol) [0x00007FF61ADE9B94]\n\tBaseThreadInitThunk [0x00007FFFC579257D+29]\n\tRtlUserThreadStart [0x00007FFFC5D4AA48+40]\n",
     "output_type": "error",
     "traceback": [
      "\u001b[1;31m---------------------------------------------------------------------------\u001b[0m",
      "\u001b[1;31mNoSuchElementException\u001b[0m                    Traceback (most recent call last)",
      "Cell \u001b[1;32mIn[37], line 1\u001b[0m\n\u001b[1;32m----> 1\u001b[0m cpu_type\u001b[38;5;241m=\u001b[39mdriver\u001b[38;5;241m.\u001b[39mfind_element(By\u001b[38;5;241m.\u001b[39mXPATH,\u001b[38;5;124m'\u001b[39m\u001b[38;5;124m/html/body/div[1]/div[1]/div[1]/div[2]/div/div[3]/span/div[1]/div/div/div[6]/ul[19]/span/span[9]/li/span/a/span\u001b[39m\u001b[38;5;124m'\u001b[39m)\n\u001b[0;32m      2\u001b[0m cpu_type\u001b[38;5;241m.\u001b[39mclick()\n",
      "File \u001b[1;32m~\\anaconda3\\Lib\\site-packages\\selenium\\webdriver\\remote\\webdriver.py:741\u001b[0m, in \u001b[0;36mWebDriver.find_element\u001b[1;34m(self, by, value)\u001b[0m\n\u001b[0;32m    738\u001b[0m     by \u001b[38;5;241m=\u001b[39m By\u001b[38;5;241m.\u001b[39mCSS_SELECTOR\n\u001b[0;32m    739\u001b[0m     value \u001b[38;5;241m=\u001b[39m \u001b[38;5;124mf\u001b[39m\u001b[38;5;124m'\u001b[39m\u001b[38;5;124m[name=\u001b[39m\u001b[38;5;124m\"\u001b[39m\u001b[38;5;132;01m{\u001b[39;00mvalue\u001b[38;5;132;01m}\u001b[39;00m\u001b[38;5;124m\"\u001b[39m\u001b[38;5;124m]\u001b[39m\u001b[38;5;124m'\u001b[39m\n\u001b[1;32m--> 741\u001b[0m \u001b[38;5;28;01mreturn\u001b[39;00m \u001b[38;5;28mself\u001b[39m\u001b[38;5;241m.\u001b[39mexecute(Command\u001b[38;5;241m.\u001b[39mFIND_ELEMENT, {\u001b[38;5;124m\"\u001b[39m\u001b[38;5;124musing\u001b[39m\u001b[38;5;124m\"\u001b[39m: by, \u001b[38;5;124m\"\u001b[39m\u001b[38;5;124mvalue\u001b[39m\u001b[38;5;124m\"\u001b[39m: value})[\u001b[38;5;124m\"\u001b[39m\u001b[38;5;124mvalue\u001b[39m\u001b[38;5;124m\"\u001b[39m]\n",
      "File \u001b[1;32m~\\anaconda3\\Lib\\site-packages\\selenium\\webdriver\\remote\\webdriver.py:347\u001b[0m, in \u001b[0;36mWebDriver.execute\u001b[1;34m(self, driver_command, params)\u001b[0m\n\u001b[0;32m    345\u001b[0m response \u001b[38;5;241m=\u001b[39m \u001b[38;5;28mself\u001b[39m\u001b[38;5;241m.\u001b[39mcommand_executor\u001b[38;5;241m.\u001b[39mexecute(driver_command, params)\n\u001b[0;32m    346\u001b[0m \u001b[38;5;28;01mif\u001b[39;00m response:\n\u001b[1;32m--> 347\u001b[0m     \u001b[38;5;28mself\u001b[39m\u001b[38;5;241m.\u001b[39merror_handler\u001b[38;5;241m.\u001b[39mcheck_response(response)\n\u001b[0;32m    348\u001b[0m     response[\u001b[38;5;124m\"\u001b[39m\u001b[38;5;124mvalue\u001b[39m\u001b[38;5;124m\"\u001b[39m] \u001b[38;5;241m=\u001b[39m \u001b[38;5;28mself\u001b[39m\u001b[38;5;241m.\u001b[39m_unwrap_value(response\u001b[38;5;241m.\u001b[39mget(\u001b[38;5;124m\"\u001b[39m\u001b[38;5;124mvalue\u001b[39m\u001b[38;5;124m\"\u001b[39m, \u001b[38;5;28;01mNone\u001b[39;00m))\n\u001b[0;32m    349\u001b[0m     \u001b[38;5;28;01mreturn\u001b[39;00m response\n",
      "File \u001b[1;32m~\\anaconda3\\Lib\\site-packages\\selenium\\webdriver\\remote\\errorhandler.py:229\u001b[0m, in \u001b[0;36mErrorHandler.check_response\u001b[1;34m(self, response)\u001b[0m\n\u001b[0;32m    227\u001b[0m         alert_text \u001b[38;5;241m=\u001b[39m value[\u001b[38;5;124m\"\u001b[39m\u001b[38;5;124malert\u001b[39m\u001b[38;5;124m\"\u001b[39m]\u001b[38;5;241m.\u001b[39mget(\u001b[38;5;124m\"\u001b[39m\u001b[38;5;124mtext\u001b[39m\u001b[38;5;124m\"\u001b[39m)\n\u001b[0;32m    228\u001b[0m     \u001b[38;5;28;01mraise\u001b[39;00m exception_class(message, screen, stacktrace, alert_text)  \u001b[38;5;66;03m# type: ignore[call-arg]  # mypy is not smart enough here\u001b[39;00m\n\u001b[1;32m--> 229\u001b[0m \u001b[38;5;28;01mraise\u001b[39;00m exception_class(message, screen, stacktrace)\n",
      "\u001b[1;31mNoSuchElementException\u001b[0m: Message: no such element: Unable to locate element: {\"method\":\"xpath\",\"selector\":\"/html/body/div[1]/div[1]/div[1]/div[2]/div/div[3]/span/div[1]/div/div/div[6]/ul[19]/span/span[9]/li/span/a/span\"}\n  (Session info: chrome=123.0.6312.122); For documentation on this error, please visit: https://www.selenium.dev/documentation/webdriver/troubleshooting/errors#no-such-element-exception\nStacktrace:\n\tGetHandleVerifier [0x00007FF61AE87032+63090]\n\t(No symbol) [0x00007FF61ADF2C82]\n\t(No symbol) [0x00007FF61AC8EC65]\n\t(No symbol) [0x00007FF61ACD499D]\n\t(No symbol) [0x00007FF61ACD4ADC]\n\t(No symbol) [0x00007FF61AD15B37]\n\t(No symbol) [0x00007FF61ACF701F]\n\t(No symbol) [0x00007FF61AD13412]\n\t(No symbol) [0x00007FF61ACF6D83]\n\t(No symbol) [0x00007FF61ACC83A8]\n\t(No symbol) [0x00007FF61ACC9441]\n\tGetHandleVerifier [0x00007FF61B2825AD+4238317]\n\tGetHandleVerifier [0x00007FF61B2BF70D+4488525]\n\tGetHandleVerifier [0x00007FF61B2B79EF+4456495]\n\tGetHandleVerifier [0x00007FF61AF60576+953270]\n\t(No symbol) [0x00007FF61ADFE54F]\n\t(No symbol) [0x00007FF61ADF9224]\n\t(No symbol) [0x00007FF61ADF935B]\n\t(No symbol) [0x00007FF61ADE9B94]\n\tBaseThreadInitThunk [0x00007FFFC579257D+29]\n\tRtlUserThreadStart [0x00007FFFC5D4AA48+40]\n"
     ]
    }
   ],
   "source": [
    "cpu_type=driver.find_element(By.XPATH,'/html/body/div[1]/div[1]/div[1]/div[2]/div/div[3]/span/div[1]/div/div/div[6]/ul[19]/span/span[9]/li/span/a/span')\n",
    "cpu_type.click()"
   ]
  },
  {
   "cell_type": "code",
   "execution_count": 38,
   "id": "03879e1b",
   "metadata": {},
   "outputs": [],
   "source": [
    "Title=[]\n",
    "i=0\n",
    "\n",
    "title_tag=driver.find_elements(By.XPATH,'//h2[@class=\"a-size-mini a-spacing-none a-color-base s-line-clamp-2\"]')\n",
    "for tag in title_tag:\n",
    "    if i>=10:\n",
    "        break\n",
    "    Title.append(tag.text)\n",
    "    i+=1"
   ]
  },
  {
   "cell_type": "code",
   "execution_count": 39,
   "id": "c849fdde",
   "metadata": {},
   "outputs": [],
   "source": [
    "Ratngs=[]\n",
    "i=0\n",
    "\n",
    "rating_tag = driver.find_elements(By.XPATH,'//span[@class=\"a-size-base s-underline-text\"]')\n",
    "for tag in rating_tag:\n",
    "    if i>=10:\n",
    "        break                            \n",
    "    Ratngs.append(tag.text)\n",
    "    i+=1"
   ]
  },
  {
   "cell_type": "code",
   "execution_count": 40,
   "id": "81d565ef",
   "metadata": {},
   "outputs": [],
   "source": [
    "Prices=[]\n",
    "i=0\n",
    "\n",
    "price_tag=driver.find_elements(By.XPATH,'//span[@class=\"a-price-whole\"]')\n",
    "for tag in price_tag:\n",
    "    if i>=10:\n",
    "        break\n",
    "    Prices.append(tag.text)\n",
    "    i+=1"
   ]
  },
  {
   "cell_type": "code",
   "execution_count": 41,
   "id": "b85f4ba5",
   "metadata": {},
   "outputs": [
    {
     "data": {
      "text/plain": [
       "(10, 10, 10)"
      ]
     },
     "execution_count": 41,
     "metadata": {},
     "output_type": "execute_result"
    }
   ],
   "source": [
    "len(Title),len(Ratngs),len(Prices)"
   ]
  },
  {
   "cell_type": "code",
   "execution_count": 42,
   "id": "0b3cb026",
   "metadata": {},
   "outputs": [
    {
     "data": {
      "text/html": [
       "<div>\n",
       "<style scoped>\n",
       "    .dataframe tbody tr th:only-of-type {\n",
       "        vertical-align: middle;\n",
       "    }\n",
       "\n",
       "    .dataframe tbody tr th {\n",
       "        vertical-align: top;\n",
       "    }\n",
       "\n",
       "    .dataframe thead th {\n",
       "        text-align: right;\n",
       "    }\n",
       "</style>\n",
       "<table border=\"1\" class=\"dataframe\">\n",
       "  <thead>\n",
       "    <tr style=\"text-align: right;\">\n",
       "      <th></th>\n",
       "      <th>Title</th>\n",
       "      <th>Ratings</th>\n",
       "      <th>Price</th>\n",
       "    </tr>\n",
       "  </thead>\n",
       "  <tbody>\n",
       "    <tr>\n",
       "      <th>0</th>\n",
       "      <td>Dell 14 Laptop, 12th Gen Intel Core i3-1215U P...</td>\n",
       "      <td>466</td>\n",
       "      <td>34,990</td>\n",
       "    </tr>\n",
       "    <tr>\n",
       "      <th>1</th>\n",
       "      <td>Dell Inspiron 3530 Laptop, 13th Gen Intel Core...</td>\n",
       "      <td>511</td>\n",
       "      <td>57,990</td>\n",
       "    </tr>\n",
       "    <tr>\n",
       "      <th>2</th>\n",
       "      <td>HP Laptop 15s, 12th Gen Intel Core i3, 15.6-in...</td>\n",
       "      <td>1,742</td>\n",
       "      <td>37,290</td>\n",
       "    </tr>\n",
       "    <tr>\n",
       "      <th>3</th>\n",
       "      <td>Lenovo V15 Intel Celeron N4500 15.6\" (39.62 cm...</td>\n",
       "      <td>239</td>\n",
       "      <td>19,990</td>\n",
       "    </tr>\n",
       "    <tr>\n",
       "      <th>4</th>\n",
       "      <td>ASUS Vivobook 15, Intel Core i3-1220P 12th Gen...</td>\n",
       "      <td>541</td>\n",
       "      <td>38,990</td>\n",
       "    </tr>\n",
       "    <tr>\n",
       "      <th>5</th>\n",
       "      <td>Dell 14 Laptop, 12th Gen Intel Core i3-1215U P...</td>\n",
       "      <td>541</td>\n",
       "      <td>38,990</td>\n",
       "    </tr>\n",
       "    <tr>\n",
       "      <th>6</th>\n",
       "      <td>HP Laptop 15s, 12th Gen Intel Core i5-1235U, 1...</td>\n",
       "      <td>903</td>\n",
       "      <td>37,790</td>\n",
       "    </tr>\n",
       "    <tr>\n",
       "      <th>7</th>\n",
       "      <td>TECNO MEGABOOK T1,Intel Core 11th Gen i3 Proce...</td>\n",
       "      <td>2,278</td>\n",
       "      <td>43,490</td>\n",
       "    </tr>\n",
       "    <tr>\n",
       "      <th>8</th>\n",
       "      <td>Chuwi HeroBook Pro 14.1'' Intel Celeron N4020 ...</td>\n",
       "      <td></td>\n",
       "      <td></td>\n",
       "    </tr>\n",
       "    <tr>\n",
       "      <th>9</th>\n",
       "      <td>ASUS VivoBook 15 (2021), 15.6-inch (39.62 cm) ...</td>\n",
       "      <td></td>\n",
       "      <td></td>\n",
       "    </tr>\n",
       "  </tbody>\n",
       "</table>\n",
       "</div>"
      ],
      "text/plain": [
       "                                               Title Ratings   Price\n",
       "0  Dell 14 Laptop, 12th Gen Intel Core i3-1215U P...     466  34,990\n",
       "1  Dell Inspiron 3530 Laptop, 13th Gen Intel Core...     511  57,990\n",
       "2  HP Laptop 15s, 12th Gen Intel Core i3, 15.6-in...   1,742  37,290\n",
       "3  Lenovo V15 Intel Celeron N4500 15.6\" (39.62 cm...     239  19,990\n",
       "4  ASUS Vivobook 15, Intel Core i3-1220P 12th Gen...     541  38,990\n",
       "5  Dell 14 Laptop, 12th Gen Intel Core i3-1215U P...     541  38,990\n",
       "6  HP Laptop 15s, 12th Gen Intel Core i5-1235U, 1...     903  37,790\n",
       "7  TECNO MEGABOOK T1,Intel Core 11th Gen i3 Proce...   2,278  43,490\n",
       "8  Chuwi HeroBook Pro 14.1'' Intel Celeron N4020 ...                \n",
       "9  ASUS VivoBook 15 (2021), 15.6-inch (39.62 cm) ...                "
      ]
     },
     "execution_count": 42,
     "metadata": {},
     "output_type": "execute_result"
    }
   ],
   "source": [
    "Laptop=pd.DataFrame({'Title':Title,'Ratings':Ratngs,'Price':Prices})\n",
    "Laptop"
   ]
  },
  {
   "cell_type": "markdown",
   "id": "a3688d86",
   "metadata": {},
   "source": [
    "# Q6: Write a python program to scrape data for Top 1000 Quotes of All Time.\n",
    "The above task will be done in following steps:\n",
    "1. First get the webpagehttps://www.azquotes.com/\n",
    "2. Click on TopQuote\n",
    "3. Than scrap a)Quote b) Author c) Type Of Quotes"
   ]
  },
  {
   "cell_type": "code",
   "execution_count": 43,
   "id": "5a9d8619",
   "metadata": {},
   "outputs": [],
   "source": [
    "driver=webdriver.Chrome()\n",
    "driver.get('http://www.azquotes.com/')"
   ]
  },
  {
   "cell_type": "code",
   "execution_count": 44,
   "id": "375f9e1d",
   "metadata": {},
   "outputs": [],
   "source": [
    "top_quotes=driver.find_element(By.XPATH,'/html/body/div[1]/div[1]/div[1]/div/div[3]/ul/li[5]/a')\n",
    "top_quotes.click()"
   ]
  },
  {
   "cell_type": "code",
   "execution_count": 45,
   "id": "3f3d8122",
   "metadata": {},
   "outputs": [
    {
     "ename": "NoSuchElementException",
     "evalue": "Message: no such element: Unable to locate element: {\"method\":\"xpath\",\"selector\":\"//li[@class=\"next\"]//a\"}\n  (Session info: chrome=123.0.6312.122); For documentation on this error, please visit: https://www.selenium.dev/documentation/webdriver/troubleshooting/errors#no-such-element-exception\nStacktrace:\n\tGetHandleVerifier [0x00007FF61AE87032+63090]\n\t(No symbol) [0x00007FF61ADF2C82]\n\t(No symbol) [0x00007FF61AC8EC65]\n\t(No symbol) [0x00007FF61ACD499D]\n\t(No symbol) [0x00007FF61ACD4ADC]\n\t(No symbol) [0x00007FF61AD15B37]\n\t(No symbol) [0x00007FF61ACF701F]\n\t(No symbol) [0x00007FF61AD13412]\n\t(No symbol) [0x00007FF61ACF6D83]\n\t(No symbol) [0x00007FF61ACC83A8]\n\t(No symbol) [0x00007FF61ACC9441]\n\tGetHandleVerifier [0x00007FF61B2825AD+4238317]\n\tGetHandleVerifier [0x00007FF61B2BF70D+4488525]\n\tGetHandleVerifier [0x00007FF61B2B79EF+4456495]\n\tGetHandleVerifier [0x00007FF61AF60576+953270]\n\t(No symbol) [0x00007FF61ADFE54F]\n\t(No symbol) [0x00007FF61ADF9224]\n\t(No symbol) [0x00007FF61ADF935B]\n\t(No symbol) [0x00007FF61ADE9B94]\n\tBaseThreadInitThunk [0x00007FFFC579257D+29]\n\tRtlUserThreadStart [0x00007FFFC5D4AA48+40]\n",
     "output_type": "error",
     "traceback": [
      "\u001b[1;31m---------------------------------------------------------------------------\u001b[0m",
      "\u001b[1;31mNoSuchElementException\u001b[0m                    Traceback (most recent call last)",
      "Cell \u001b[1;32mIn[45], line 9\u001b[0m\n\u001b[0;32m      7\u001b[0m \u001b[38;5;28;01mfor\u001b[39;00m tag \u001b[38;5;129;01min\u001b[39;00m quote_tag:\n\u001b[0;32m      8\u001b[0m     quote\u001b[38;5;241m.\u001b[39mappend(tag\u001b[38;5;241m.\u001b[39mtext)\n\u001b[1;32m----> 9\u001b[0m next_page\u001b[38;5;241m=\u001b[39mdriver\u001b[38;5;241m.\u001b[39mfind_element(By\u001b[38;5;241m.\u001b[39mXPATH,\u001b[38;5;124m'\u001b[39m\u001b[38;5;124m//li[@class=\u001b[39m\u001b[38;5;124m\"\u001b[39m\u001b[38;5;124mnext\u001b[39m\u001b[38;5;124m\"\u001b[39m\u001b[38;5;124m]//a\u001b[39m\u001b[38;5;124m'\u001b[39m)\n\u001b[0;32m     10\u001b[0m next_page\u001b[38;5;241m.\u001b[39mclick()\n\u001b[0;32m     11\u001b[0m time\u001b[38;5;241m.\u001b[39msleep(\u001b[38;5;241m3\u001b[39m)\n",
      "File \u001b[1;32m~\\anaconda3\\Lib\\site-packages\\selenium\\webdriver\\remote\\webdriver.py:741\u001b[0m, in \u001b[0;36mWebDriver.find_element\u001b[1;34m(self, by, value)\u001b[0m\n\u001b[0;32m    738\u001b[0m     by \u001b[38;5;241m=\u001b[39m By\u001b[38;5;241m.\u001b[39mCSS_SELECTOR\n\u001b[0;32m    739\u001b[0m     value \u001b[38;5;241m=\u001b[39m \u001b[38;5;124mf\u001b[39m\u001b[38;5;124m'\u001b[39m\u001b[38;5;124m[name=\u001b[39m\u001b[38;5;124m\"\u001b[39m\u001b[38;5;132;01m{\u001b[39;00mvalue\u001b[38;5;132;01m}\u001b[39;00m\u001b[38;5;124m\"\u001b[39m\u001b[38;5;124m]\u001b[39m\u001b[38;5;124m'\u001b[39m\n\u001b[1;32m--> 741\u001b[0m \u001b[38;5;28;01mreturn\u001b[39;00m \u001b[38;5;28mself\u001b[39m\u001b[38;5;241m.\u001b[39mexecute(Command\u001b[38;5;241m.\u001b[39mFIND_ELEMENT, {\u001b[38;5;124m\"\u001b[39m\u001b[38;5;124musing\u001b[39m\u001b[38;5;124m\"\u001b[39m: by, \u001b[38;5;124m\"\u001b[39m\u001b[38;5;124mvalue\u001b[39m\u001b[38;5;124m\"\u001b[39m: value})[\u001b[38;5;124m\"\u001b[39m\u001b[38;5;124mvalue\u001b[39m\u001b[38;5;124m\"\u001b[39m]\n",
      "File \u001b[1;32m~\\anaconda3\\Lib\\site-packages\\selenium\\webdriver\\remote\\webdriver.py:347\u001b[0m, in \u001b[0;36mWebDriver.execute\u001b[1;34m(self, driver_command, params)\u001b[0m\n\u001b[0;32m    345\u001b[0m response \u001b[38;5;241m=\u001b[39m \u001b[38;5;28mself\u001b[39m\u001b[38;5;241m.\u001b[39mcommand_executor\u001b[38;5;241m.\u001b[39mexecute(driver_command, params)\n\u001b[0;32m    346\u001b[0m \u001b[38;5;28;01mif\u001b[39;00m response:\n\u001b[1;32m--> 347\u001b[0m     \u001b[38;5;28mself\u001b[39m\u001b[38;5;241m.\u001b[39merror_handler\u001b[38;5;241m.\u001b[39mcheck_response(response)\n\u001b[0;32m    348\u001b[0m     response[\u001b[38;5;124m\"\u001b[39m\u001b[38;5;124mvalue\u001b[39m\u001b[38;5;124m\"\u001b[39m] \u001b[38;5;241m=\u001b[39m \u001b[38;5;28mself\u001b[39m\u001b[38;5;241m.\u001b[39m_unwrap_value(response\u001b[38;5;241m.\u001b[39mget(\u001b[38;5;124m\"\u001b[39m\u001b[38;5;124mvalue\u001b[39m\u001b[38;5;124m\"\u001b[39m, \u001b[38;5;28;01mNone\u001b[39;00m))\n\u001b[0;32m    349\u001b[0m     \u001b[38;5;28;01mreturn\u001b[39;00m response\n",
      "File \u001b[1;32m~\\anaconda3\\Lib\\site-packages\\selenium\\webdriver\\remote\\errorhandler.py:229\u001b[0m, in \u001b[0;36mErrorHandler.check_response\u001b[1;34m(self, response)\u001b[0m\n\u001b[0;32m    227\u001b[0m         alert_text \u001b[38;5;241m=\u001b[39m value[\u001b[38;5;124m\"\u001b[39m\u001b[38;5;124malert\u001b[39m\u001b[38;5;124m\"\u001b[39m]\u001b[38;5;241m.\u001b[39mget(\u001b[38;5;124m\"\u001b[39m\u001b[38;5;124mtext\u001b[39m\u001b[38;5;124m\"\u001b[39m)\n\u001b[0;32m    228\u001b[0m     \u001b[38;5;28;01mraise\u001b[39;00m exception_class(message, screen, stacktrace, alert_text)  \u001b[38;5;66;03m# type: ignore[call-arg]  # mypy is not smart enough here\u001b[39;00m\n\u001b[1;32m--> 229\u001b[0m \u001b[38;5;28;01mraise\u001b[39;00m exception_class(message, screen, stacktrace)\n",
      "\u001b[1;31mNoSuchElementException\u001b[0m: Message: no such element: Unable to locate element: {\"method\":\"xpath\",\"selector\":\"//li[@class=\"next\"]//a\"}\n  (Session info: chrome=123.0.6312.122); For documentation on this error, please visit: https://www.selenium.dev/documentation/webdriver/troubleshooting/errors#no-such-element-exception\nStacktrace:\n\tGetHandleVerifier [0x00007FF61AE87032+63090]\n\t(No symbol) [0x00007FF61ADF2C82]\n\t(No symbol) [0x00007FF61AC8EC65]\n\t(No symbol) [0x00007FF61ACD499D]\n\t(No symbol) [0x00007FF61ACD4ADC]\n\t(No symbol) [0x00007FF61AD15B37]\n\t(No symbol) [0x00007FF61ACF701F]\n\t(No symbol) [0x00007FF61AD13412]\n\t(No symbol) [0x00007FF61ACF6D83]\n\t(No symbol) [0x00007FF61ACC83A8]\n\t(No symbol) [0x00007FF61ACC9441]\n\tGetHandleVerifier [0x00007FF61B2825AD+4238317]\n\tGetHandleVerifier [0x00007FF61B2BF70D+4488525]\n\tGetHandleVerifier [0x00007FF61B2B79EF+4456495]\n\tGetHandleVerifier [0x00007FF61AF60576+953270]\n\t(No symbol) [0x00007FF61ADFE54F]\n\t(No symbol) [0x00007FF61ADF9224]\n\t(No symbol) [0x00007FF61ADF935B]\n\t(No symbol) [0x00007FF61ADE9B94]\n\tBaseThreadInitThunk [0x00007FFFC579257D+29]\n\tRtlUserThreadStart [0x00007FFFC5D4AA48+40]\n"
     ]
    }
   ],
   "source": [
    "quote=[]\n",
    "start=0\n",
    "end=10\n",
    "\n",
    "for page in range(start,end):\n",
    "    quote_tag=driver.find_elements(By.XPATH,'//a[@class=\"title\"]')\n",
    "    for tag in quote_tag:\n",
    "        quote.append(tag.text)\n",
    "    next_page=driver.find_element(By.XPATH,'//li[@class=\"next\"]//a')\n",
    "    next_page.click()\n",
    "    time.sleep(3)"
   ]
  },
  {
   "cell_type": "code",
   "execution_count": null,
   "id": "ae49473a",
   "metadata": {},
   "outputs": [],
   "source": [
    "author=[]\n",
    "start=0\n",
    "end=10\n",
    "\n",
    "for page in range(start,end):\n",
    "    author_tag=driver.find_elements(By.XPATH,'//div[@class=\"author\"]//a')\n",
    "    for tag in author_tag:\n",
    "        author.append(tag.text)\n",
    "    next_page=driver.find_element(By.XPATH,'//li[@class=\"next\"]//a')\n",
    "    next_page.click()\n",
    "    time.sleep(3)   "
   ]
  },
  {
   "cell_type": "code",
   "execution_count": null,
   "id": "3f84a730",
   "metadata": {},
   "outputs": [],
   "source": [
    "type_of_quotes=[]\n",
    "start=0\n",
    "end=10\n",
    "\n",
    "for page in range(start,end):\n",
    "    type_tag=driver.find_elements(By.XPATH,'//div[@class=\"tags\"]')\n",
    "    for tag in type_tag:\n",
    "        type_of_quotes.append(tag.text)\n",
    "    next_page=driver.find_element(By.XPATH,'//li[@class=\"next\"]//a')\n",
    "    next_page.click()\n",
    "    time.sleep(3)    "
   ]
  },
  {
   "cell_type": "code",
   "execution_count": null,
   "id": "c0414146",
   "metadata": {},
   "outputs": [],
   "source": [
    "len(quote),len(author),len(type_of_quotes)"
   ]
  },
  {
   "cell_type": "code",
   "execution_count": null,
   "id": "d71124c5",
   "metadata": {},
   "outputs": [],
   "source": [
    "Quote=pd.DataFrame({'Quote':quote,'Author':author,'Type_of_quote':type_of_quotes})\n",
    "Quote"
   ]
  },
  {
   "cell_type": "markdown",
   "id": "f8595eab",
   "metadata": {},
   "source": [
    "# Q7: Write a python program to display list of respected former Prime Ministers of India (i.e. Name,\n",
    "Born-Dead, Term of office, Remarks) from https://www.jagranjosh.com/general-knowledge/list-ofall-prime-ministers-of-india-1473165149-1"
   ]
  },
  {
   "cell_type": "code",
   "execution_count": 46,
   "id": "9ff93488",
   "metadata": {},
   "outputs": [],
   "source": [
    "driver=webdriver.Chrome()\n",
    "driver.get('https://www.jagranjosh.com/general-knowledge/list-of-all-prime-ministers-of-india-1473165149-1')"
   ]
  },
  {
   "cell_type": "code",
   "execution_count": 47,
   "id": "be7ab1d4",
   "metadata": {},
   "outputs": [],
   "source": [
    "table=[]"
   ]
  },
  {
   "cell_type": "code",
   "execution_count": 48,
   "id": "01e274bf",
   "metadata": {},
   "outputs": [],
   "source": [
    "name_tag=driver.find_elements(By.XPATH,'//div[@class=\"TableData\"]//tbody//tr')\n",
    "for tag in name_tag:\n",
    "    result=tag.text.split('\\n')\n",
    "    table.append(result)"
   ]
  },
  {
   "cell_type": "code",
   "execution_count": 49,
   "id": "fc46c23b",
   "metadata": {},
   "outputs": [],
   "source": [
    "Prime_minister=pd.DataFrame(table)"
   ]
  },
  {
   "cell_type": "code",
   "execution_count": 50,
   "id": "d229b944",
   "metadata": {},
   "outputs": [],
   "source": [
    "Prime_minister=Prime_minister.drop(0)"
   ]
  },
  {
   "cell_type": "code",
   "execution_count": 51,
   "id": "07e33864",
   "metadata": {},
   "outputs": [],
   "source": [
    "Prime_minister=Prime_minister.drop(Prime_minister.index[-1])"
   ]
  },
  {
   "cell_type": "code",
   "execution_count": 52,
   "id": "960fa534",
   "metadata": {},
   "outputs": [],
   "source": [
    "Prime_minister = Prime_minister.drop(columns=[Prime_minister.columns[0]])"
   ]
  },
  {
   "cell_type": "code",
   "execution_count": 53,
   "id": "5b3cc6fd",
   "metadata": {},
   "outputs": [],
   "source": [
    "Prime_minister[6]=Prime_minister[3]+''+Prime_minister[4]"
   ]
  },
  {
   "cell_type": "code",
   "execution_count": 54,
   "id": "0adb8f4b",
   "metadata": {},
   "outputs": [],
   "source": [
    "Prime_minister = Prime_minister.drop(columns=[Prime_minister.columns[3]])\n",
    "Prime_minister = Prime_minister.drop(columns=[Prime_minister.columns[4]])"
   ]
  },
  {
   "cell_type": "code",
   "execution_count": 55,
   "id": "31ffabfb",
   "metadata": {},
   "outputs": [],
   "source": [
    "Prime_minister.columns=['Name','Born-Dead','Term_of_office','Remarks']"
   ]
  },
  {
   "cell_type": "code",
   "execution_count": 56,
   "id": "321a672f",
   "metadata": {},
   "outputs": [
    {
     "data": {
      "text/html": [
       "<div>\n",
       "<style scoped>\n",
       "    .dataframe tbody tr th:only-of-type {\n",
       "        vertical-align: middle;\n",
       "    }\n",
       "\n",
       "    .dataframe tbody tr th {\n",
       "        vertical-align: top;\n",
       "    }\n",
       "\n",
       "    .dataframe thead th {\n",
       "        text-align: right;\n",
       "    }\n",
       "</style>\n",
       "<table border=\"1\" class=\"dataframe\">\n",
       "  <thead>\n",
       "    <tr style=\"text-align: right;\">\n",
       "      <th></th>\n",
       "      <th>Name</th>\n",
       "      <th>Born-Dead</th>\n",
       "      <th>Term_of_office</th>\n",
       "      <th>Remarks</th>\n",
       "    </tr>\n",
       "  </thead>\n",
       "  <tbody>\n",
       "    <tr>\n",
       "      <th>1</th>\n",
       "      <td>Jawahar Lal Nehru</td>\n",
       "      <td>(1889–1964)</td>\n",
       "      <td>15 August 1947 to 27 May 1964</td>\n",
       "      <td>The first prime minister of India and the long...</td>\n",
       "    </tr>\n",
       "    <tr>\n",
       "      <th>2</th>\n",
       "      <td>Gulzarilal Nanda (Acting)</td>\n",
       "      <td>(1898-1998)</td>\n",
       "      <td>27 May 1964 to 9 June 1964,</td>\n",
       "      <td>First acting PM of India</td>\n",
       "    </tr>\n",
       "    <tr>\n",
       "      <th>3</th>\n",
       "      <td>Lal Bahadur Shastri</td>\n",
       "      <td>(1904–1966)</td>\n",
       "      <td>9 June 1964 to 11 January 1966</td>\n",
       "      <td>He has given the slogan of 'Jai Jawan Jai Kisa...</td>\n",
       "    </tr>\n",
       "    <tr>\n",
       "      <th>4</th>\n",
       "      <td>Gulzari Lal Nanda  (Acting)</td>\n",
       "      <td>(1898-1998)</td>\n",
       "      <td>11 January 1966 to 24 January 1966</td>\n",
       "      <td>-</td>\n",
       "    </tr>\n",
       "    <tr>\n",
       "      <th>5</th>\n",
       "      <td>Indira Gandhi</td>\n",
       "      <td>(1917–1984)</td>\n",
       "      <td>24 January 1966 to 24 March 1977</td>\n",
       "      <td>First female Prime Minister of India</td>\n",
       "    </tr>\n",
       "    <tr>\n",
       "      <th>6</th>\n",
       "      <td>Morarji Desai</td>\n",
       "      <td>(1896–1995)</td>\n",
       "      <td>24 March 1977 to  28 July 1979</td>\n",
       "      <td>Oldest to become PM (81 years old) and first t...</td>\n",
       "    </tr>\n",
       "    <tr>\n",
       "      <th>7</th>\n",
       "      <td>Charan Singh</td>\n",
       "      <td>(1902–1987)</td>\n",
       "      <td>28 July 1979 to 14 January 1980</td>\n",
       "      <td>Only PM who did not face the Parliament</td>\n",
       "    </tr>\n",
       "    <tr>\n",
       "      <th>8</th>\n",
       "      <td>Indira Gandhi</td>\n",
       "      <td>(1917–1984)</td>\n",
       "      <td>14 January 1980 to 31 October 1984</td>\n",
       "      <td>The first lady who served as PM for the second...</td>\n",
       "    </tr>\n",
       "    <tr>\n",
       "      <th>9</th>\n",
       "      <td>Rajiv Gandhi</td>\n",
       "      <td>(1944–1991)</td>\n",
       "      <td>31 October 1984 to 2 December 1989</td>\n",
       "      <td>Youngest to become PM (40 years old)</td>\n",
       "    </tr>\n",
       "    <tr>\n",
       "      <th>10</th>\n",
       "      <td>V. P. Singh</td>\n",
       "      <td>(1931–2008)</td>\n",
       "      <td>2 December 1989 to 10 November 1990</td>\n",
       "      <td>First PM to step down after a vote of no confi...</td>\n",
       "    </tr>\n",
       "    <tr>\n",
       "      <th>11</th>\n",
       "      <td>Chandra Shekhar</td>\n",
       "      <td>(1927–2007)</td>\n",
       "      <td>10 November 1990 to 21 June 1991</td>\n",
       "      <td>He belongs to  Samajwadi Janata Party</td>\n",
       "    </tr>\n",
       "    <tr>\n",
       "      <th>12</th>\n",
       "      <td>P. V. Narasimha Rao</td>\n",
       "      <td>(1921–2004)</td>\n",
       "      <td>21 June 1991 to 16 May 1996</td>\n",
       "      <td>First PM from South India</td>\n",
       "    </tr>\n",
       "    <tr>\n",
       "      <th>13</th>\n",
       "      <td>Atal Bihari Vajpayee</td>\n",
       "      <td>(1924- 2018)</td>\n",
       "      <td>16 May 1996 to 1 June 1996</td>\n",
       "      <td>PM for shortest tenure</td>\n",
       "    </tr>\n",
       "    <tr>\n",
       "      <th>14</th>\n",
       "      <td>H. D. Deve Gowda</td>\n",
       "      <td>(born 1933)</td>\n",
       "      <td>1 June 1996 to 21 April 1997</td>\n",
       "      <td>He belongs to  Janata Dal</td>\n",
       "    </tr>\n",
       "    <tr>\n",
       "      <th>15</th>\n",
       "      <td>Inder Kumar Gujral</td>\n",
       "      <td>(1919–2012)</td>\n",
       "      <td>21 April 1997 to 19 March 1998</td>\n",
       "      <td>------</td>\n",
       "    </tr>\n",
       "    <tr>\n",
       "      <th>16</th>\n",
       "      <td>Atal Bihari Vajpayee</td>\n",
       "      <td>(1924-2018)</td>\n",
       "      <td>19 March 1998 to 22 May 2004</td>\n",
       "      <td>The first non-congress PM who completed a ful...</td>\n",
       "    </tr>\n",
       "    <tr>\n",
       "      <th>17</th>\n",
       "      <td>Manmohan Singh</td>\n",
       "      <td>(born 1932)</td>\n",
       "      <td>22 May 2004 to 26 May 2014</td>\n",
       "      <td>First Sikh PM</td>\n",
       "    </tr>\n",
       "    <tr>\n",
       "      <th>18</th>\n",
       "      <td>Narendra Modi</td>\n",
       "      <td>(born 1950)</td>\n",
       "      <td>26 May 2014 - 2019</td>\n",
       "      <td>None</td>\n",
       "    </tr>\n",
       "    <tr>\n",
       "      <th>19</th>\n",
       "      <td>Narendra Modi</td>\n",
       "      <td>(born 1950)</td>\n",
       "      <td>30 May 2019- Incumbent</td>\n",
       "      <td>None</td>\n",
       "    </tr>\n",
       "  </tbody>\n",
       "</table>\n",
       "</div>"
      ],
      "text/plain": [
       "                           Name     Born-Dead  \\\n",
       "1             Jawahar Lal Nehru   (1889–1964)   \n",
       "2     Gulzarilal Nanda (Acting)   (1898-1998)   \n",
       "3           Lal Bahadur Shastri   (1904–1966)   \n",
       "4   Gulzari Lal Nanda  (Acting)   (1898-1998)   \n",
       "5                 Indira Gandhi   (1917–1984)   \n",
       "6                 Morarji Desai   (1896–1995)   \n",
       "7                  Charan Singh   (1902–1987)   \n",
       "8                 Indira Gandhi   (1917–1984)   \n",
       "9                  Rajiv Gandhi   (1944–1991)   \n",
       "10                  V. P. Singh   (1931–2008)   \n",
       "11              Chandra Shekhar   (1927–2007)   \n",
       "12          P. V. Narasimha Rao   (1921–2004)   \n",
       "13         Atal Bihari Vajpayee  (1924- 2018)   \n",
       "14             H. D. Deve Gowda   (born 1933)   \n",
       "15           Inder Kumar Gujral   (1919–2012)   \n",
       "16         Atal Bihari Vajpayee   (1924-2018)   \n",
       "17               Manmohan Singh   (born 1932)   \n",
       "18                Narendra Modi   (born 1950)   \n",
       "19                Narendra Modi   (born 1950)   \n",
       "\n",
       "                         Term_of_office  \\\n",
       "1         15 August 1947 to 27 May 1964   \n",
       "2           27 May 1964 to 9 June 1964,   \n",
       "3        9 June 1964 to 11 January 1966   \n",
       "4    11 January 1966 to 24 January 1966   \n",
       "5      24 January 1966 to 24 March 1977   \n",
       "6       24 March 1977 to  28 July 1979    \n",
       "7       28 July 1979 to 14 January 1980   \n",
       "8    14 January 1980 to 31 October 1984   \n",
       "9    31 October 1984 to 2 December 1989   \n",
       "10  2 December 1989 to 10 November 1990   \n",
       "11     10 November 1990 to 21 June 1991   \n",
       "12          21 June 1991 to 16 May 1996   \n",
       "13           16 May 1996 to 1 June 1996   \n",
       "14         1 June 1996 to 21 April 1997   \n",
       "15      21 April 1997 to 19 March 1998    \n",
       "16        19 March 1998 to 22 May 2004    \n",
       "17        22 May 2004 to 26 May 2014      \n",
       "18                   26 May 2014 - 2019   \n",
       "19               30 May 2019- Incumbent   \n",
       "\n",
       "                                              Remarks  \n",
       "1   The first prime minister of India and the long...  \n",
       "2                            First acting PM of India  \n",
       "3   He has given the slogan of 'Jai Jawan Jai Kisa...  \n",
       "4                                                   -  \n",
       "5                First female Prime Minister of India  \n",
       "6   Oldest to become PM (81 years old) and first t...  \n",
       "7             Only PM who did not face the Parliament  \n",
       "8   The first lady who served as PM for the second...  \n",
       "9                Youngest to become PM (40 years old)  \n",
       "10  First PM to step down after a vote of no confi...  \n",
       "11              He belongs to  Samajwadi Janata Party  \n",
       "12                          First PM from South India  \n",
       "13                             PM for shortest tenure  \n",
       "14                          He belongs to  Janata Dal  \n",
       "15                                             ------  \n",
       "16   The first non-congress PM who completed a ful...  \n",
       "17                                      First Sikh PM  \n",
       "18                                               None  \n",
       "19                                               None  "
      ]
     },
     "execution_count": 56,
     "metadata": {},
     "output_type": "execute_result"
    }
   ],
   "source": [
    "Prime_minister"
   ]
  },
  {
   "cell_type": "markdown",
   "id": "7f63489c",
   "metadata": {},
   "source": [
    "# Q8: Write a python program to display list of 50 Most expensive cars in the world\n",
    "(i.e. Car name and Price) from https://www.motor1.com/\n",
    "This task will be done in following steps:\n",
    "1. First get the webpage https://www.motor1.com/\n",
    "2. Then You have to type in the search bar ’50 most expensive cars’\n",
    "3. Then click on 50 most expensive carsin the world..\n",
    "4. Then scrap thementioned data and make the dataframe."
   ]
  },
  {
   "cell_type": "code",
   "execution_count": 65,
   "id": "9ff6c328",
   "metadata": {},
   "outputs": [],
   "source": [
    "driver=webdriver.Chrome()\n",
    "driver.get('https://www.motor1.com/')\n",
    "time.sleep(1)"
   ]
  },
  {
   "cell_type": "code",
   "execution_count": 66,
   "id": "24d46731",
   "metadata": {},
   "outputs": [],
   "source": [
    "search=driver.find_element(By.XPATH,'/html/body/div[9]/div[2]/div/div/div[3]/div/div/div/form/input')\n",
    "search.send_keys('50 most expensive cars')"
   ]
  },
  {
   "cell_type": "code",
   "execution_count": 67,
   "id": "40ef8dad",
   "metadata": {},
   "outputs": [],
   "source": [
    "search_button=driver.find_element(By.XPATH,'/html/body/div[9]/div[2]/div/div/div[3]/div/div/div/form/button[1]')\n",
    "search_button.click()"
   ]
  },
  {
   "cell_type": "code",
   "execution_count": 68,
   "id": "bc9e7743",
   "metadata": {},
   "outputs": [],
   "source": [
    "select=driver.find_element(By.XPATH,'/html/body/div[9]/div[9]/div/div[1]/div/div/div[1]/div/div[1]/h3/a')\n",
    "select.click()"
   ]
  },
  {
   "cell_type": "code",
   "execution_count": 69,
   "id": "d3e1b041",
   "metadata": {},
   "outputs": [],
   "source": [
    "car_names=[]\n",
    "\n",
    "name_tag=driver.find_elements(By.XPATH,'//h3[@class=\"subheader\"]')[0:50]\n",
    "for tag in name_tag:\n",
    "    car_names.append(tag.text)"
   ]
  },
  {
   "cell_type": "code",
   "execution_count": 70,
   "id": "c2333219",
   "metadata": {},
   "outputs": [
    {
     "ename": "NameError",
     "evalue": "name 're' is not defined",
     "output_type": "error",
     "traceback": [
      "\u001b[1;31m---------------------------------------------------------------------------\u001b[0m",
      "\u001b[1;31mNameError\u001b[0m                                 Traceback (most recent call last)",
      "Cell \u001b[1;32mIn[70], line 6\u001b[0m\n\u001b[0;32m      3\u001b[0m price_tag\u001b[38;5;241m=\u001b[39mprice_tags \u001b[38;5;241m=\u001b[39m driver\u001b[38;5;241m.\u001b[39mfind_elements(By\u001b[38;5;241m.\u001b[39mXPATH,\u001b[38;5;124m\"\u001b[39m\u001b[38;5;124m//strong\u001b[39m\u001b[38;5;124m\"\u001b[39m)\n\u001b[0;32m      5\u001b[0m \u001b[38;5;28;01mfor\u001b[39;00m tag \u001b[38;5;129;01min\u001b[39;00m price_tags:\n\u001b[1;32m----> 6\u001b[0m     result\u001b[38;5;241m=\u001b[39mre\u001b[38;5;241m.\u001b[39mfindall(\u001b[38;5;124m'\u001b[39m\u001b[38;5;124m\\\u001b[39m\u001b[38;5;124md+.\u001b[39m\u001b[38;5;124m\\\u001b[39m\u001b[38;5;124md \u001b[39m\u001b[38;5;124m\\\u001b[39m\u001b[38;5;124mw+\u001b[39m\u001b[38;5;124m'\u001b[39m,tag\u001b[38;5;241m.\u001b[39mtext\u001b[38;5;241m.\u001b[39mstrip())\n\u001b[0;32m      7\u001b[0m     prc\u001b[38;5;241m.\u001b[39mappend(result)\n",
      "\u001b[1;31mNameError\u001b[0m: name 're' is not defined"
     ]
    }
   ],
   "source": [
    "prc=[]\n",
    "\n",
    "price_tag=price_tags = driver.find_elements(By.XPATH,\"//strong\")\n",
    "\n",
    "for tag in price_tags:\n",
    "    result=re.findall('\\d+.\\d \\w+',tag.text.strip())\n",
    "    prc.append(result)\n",
    "    "
   ]
  },
  {
   "cell_type": "code",
   "execution_count": null,
   "id": "76c266d3",
   "metadata": {},
   "outputs": [],
   "source": [
    "len(car_names),len(prc)"
   ]
  },
  {
   "cell_type": "code",
   "execution_count": null,
   "id": "373e35e2",
   "metadata": {},
   "outputs": [],
   "source": [
    "Car=pd.DataFrame({'car_name':car_names,'Price':prc})\n",
    "Car"
   ]
  },
  {
   "cell_type": "code",
   "execution_count": null,
   "id": "9967a876",
   "metadata": {},
   "outputs": [],
   "source": []
  },
  {
   "cell_type": "code",
   "execution_count": null,
   "id": "2a77fafe",
   "metadata": {},
   "outputs": [],
   "source": []
  },
  {
   "cell_type": "code",
   "execution_count": null,
   "id": "9b1e0a5a",
   "metadata": {},
   "outputs": [],
   "source": []
  },
  {
   "cell_type": "code",
   "execution_count": null,
   "id": "c45b4010",
   "metadata": {},
   "outputs": [],
   "source": []
  }
 ],
 "metadata": {
  "kernelspec": {
   "display_name": "Python 3 (ipykernel)",
   "language": "python",
   "name": "python3"
  },
  "language_info": {
   "codemirror_mode": {
    "name": "ipython",
    "version": 3
   },
   "file_extension": ".py",
   "mimetype": "text/x-python",
   "name": "python",
   "nbconvert_exporter": "python",
   "pygments_lexer": "ipython3",
   "version": "3.11.5"
  }
 },
 "nbformat": 4,
 "nbformat_minor": 5
}
