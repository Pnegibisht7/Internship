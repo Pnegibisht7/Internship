{
 "cells": [
  {
   "cell_type": "code",
   "execution_count": 1,
   "id": "94504bb6",
   "metadata": {},
   "outputs": [],
   "source": [
    "from selenium.webdriver.common.by import By\n",
    "import requests\n",
    "from bs4 import BeautifulSoup\n",
    "import pandas as pd\n",
    "import re\n",
    "import warnings\n",
    "warnings.filterwarnings('ignore')\n",
    "from selenium import webdriver\n",
    "from selenium.common.exceptions import StaleElementReferenceException,NoSuchElementException\n",
    "import time"
   ]
  },
  {
   "cell_type": "markdown",
   "id": "d4332f87",
   "metadata": {},
   "source": [
    "# 1. Scrape the details of most viewed videos on YouTube from Wikipedia. Url\n",
    "= https://en.wikipedia.org/wiki/List_of_most-viewed_YouTube_videos You need to find following details: A)\n",
    "Rank\n",
    "B) Name\n",
    "C) Artist\n",
    "D) Upload date\n",
    "E) Views "
   ]
  },
  {
   "cell_type": "code",
   "execution_count": 2,
   "id": "055c1c3b",
   "metadata": {},
   "outputs": [],
   "source": [
    "driver=webdriver.Chrome()\n",
    "driver.get('https://en.wikipedia.org/wiki/List_of_most-viewed_YouTube_videos')"
   ]
  },
  {
   "cell_type": "code",
   "execution_count": 3,
   "id": "1a91caf6",
   "metadata": {},
   "outputs": [],
   "source": [
    "name=[]\n",
    "artist=[]\n",
    "upload_date=[]\n",
    "view=[]"
   ]
  },
  {
   "cell_type": "code",
   "execution_count": 4,
   "id": "1a4ef03e",
   "metadata": {},
   "outputs": [],
   "source": [
    "name_tag=driver.find_elements(By.XPATH,'//table[@class=\"sortable wikitable sticky-header static-row-numbers sort-under col3center col4right jquery-tablesorter\"]/tbody/tr/td[1]')\n",
    "for tag in name_tag:\n",
    "    name.append(tag.text)"
   ]
  },
  {
   "cell_type": "code",
   "execution_count": 5,
   "id": "d7122766",
   "metadata": {},
   "outputs": [],
   "source": [
    "artist_tag=driver.find_elements(By.XPATH,'//table[@class=\"sortable wikitable sticky-header static-row-numbers sort-under col3center col4right jquery-tablesorter\"]/tbody/tr/td[2]')\n",
    "for tag in artist_tag:\n",
    "    artist.append(tag.text)"
   ]
  },
  {
   "cell_type": "code",
   "execution_count": 6,
   "id": "9ffc863e",
   "metadata": {},
   "outputs": [],
   "source": [
    "date_tag=driver.find_elements(By.XPATH,'//table[@class=\"sortable wikitable sticky-header static-row-numbers sort-under col3center col4right jquery-tablesorter\"]/tbody/tr/td[4]')\n",
    "for tag in date_tag:\n",
    "    upload_date.append(tag.text)"
   ]
  },
  {
   "cell_type": "code",
   "execution_count": 7,
   "id": "b45637dd",
   "metadata": {},
   "outputs": [],
   "source": [
    "view_tag=driver.find_elements(By.XPATH,'//table[@class=\"sortable wikitable sticky-header static-row-numbers sort-under col3center col4right jquery-tablesorter\"]/tbody/tr/td[3]')\n",
    "for tag in view_tag:\n",
    "    view.append(tag.text)"
   ]
  },
  {
   "cell_type": "code",
   "execution_count": 8,
   "id": "1d1dbad0",
   "metadata": {},
   "outputs": [
    {
     "data": {
      "text/html": [
       "<div>\n",
       "<style scoped>\n",
       "    .dataframe tbody tr th:only-of-type {\n",
       "        vertical-align: middle;\n",
       "    }\n",
       "\n",
       "    .dataframe tbody tr th {\n",
       "        vertical-align: top;\n",
       "    }\n",
       "\n",
       "    .dataframe thead th {\n",
       "        text-align: right;\n",
       "    }\n",
       "</style>\n",
       "<table border=\"1\" class=\"dataframe\">\n",
       "  <thead>\n",
       "    <tr style=\"text-align: right;\">\n",
       "      <th></th>\n",
       "      <th>Name</th>\n",
       "      <th>Artist</th>\n",
       "      <th>Upload Date</th>\n",
       "      <th>Views</th>\n",
       "    </tr>\n",
       "    <tr>\n",
       "      <th>Rank</th>\n",
       "      <th></th>\n",
       "      <th></th>\n",
       "      <th></th>\n",
       "      <th></th>\n",
       "    </tr>\n",
       "  </thead>\n",
       "  <tbody>\n",
       "    <tr>\n",
       "      <th>1</th>\n",
       "      <td>\"Baby Shark Dance\"[7]</td>\n",
       "      <td>Pinkfong Baby Shark - Kids' Songs &amp; Stories</td>\n",
       "      <td>June 17, 2016</td>\n",
       "      <td>14.32</td>\n",
       "    </tr>\n",
       "    <tr>\n",
       "      <th>2</th>\n",
       "      <td>\"Despacito\"[10]</td>\n",
       "      <td>Luis Fonsi</td>\n",
       "      <td>January 12, 2017</td>\n",
       "      <td>8.41</td>\n",
       "    </tr>\n",
       "    <tr>\n",
       "      <th>3</th>\n",
       "      <td>\"Johny Johny Yes Papa\"[18]</td>\n",
       "      <td>LooLoo Kids - Nursery Rhymes and Children's Songs</td>\n",
       "      <td>October 8, 2016</td>\n",
       "      <td>6.89</td>\n",
       "    </tr>\n",
       "    <tr>\n",
       "      <th>4</th>\n",
       "      <td>\"Bath Song\"[19]</td>\n",
       "      <td>Cocomelon - Nursery Rhymes</td>\n",
       "      <td>May 2, 2018</td>\n",
       "      <td>6.66</td>\n",
       "    </tr>\n",
       "    <tr>\n",
       "      <th>5</th>\n",
       "      <td>\"Shape of You\"[20]</td>\n",
       "      <td>Ed Sheeran</td>\n",
       "      <td>January 30, 2017</td>\n",
       "      <td>6.23</td>\n",
       "    </tr>\n",
       "    <tr>\n",
       "      <th>6</th>\n",
       "      <td>\"See You Again\"[23]</td>\n",
       "      <td>Wiz Khalifa</td>\n",
       "      <td>April 6, 2015</td>\n",
       "      <td>6.22</td>\n",
       "    </tr>\n",
       "    <tr>\n",
       "      <th>7</th>\n",
       "      <td>\"Wheels on the Bus\"[28]</td>\n",
       "      <td>Cocomelon - Nursery Rhymes</td>\n",
       "      <td>May 24, 2018</td>\n",
       "      <td>6.01</td>\n",
       "    </tr>\n",
       "    <tr>\n",
       "      <th>8</th>\n",
       "      <td>\"Phonics Song with Two Words\"[29]</td>\n",
       "      <td>ChuChu TV Nursery Rhymes &amp; Kids Songs</td>\n",
       "      <td>March 6, 2014</td>\n",
       "      <td>5.75</td>\n",
       "    </tr>\n",
       "    <tr>\n",
       "      <th>9</th>\n",
       "      <td>\"Uptown Funk\"[30]</td>\n",
       "      <td>Mark Ronson</td>\n",
       "      <td>November 19, 2014</td>\n",
       "      <td>5.18</td>\n",
       "    </tr>\n",
       "    <tr>\n",
       "      <th>10</th>\n",
       "      <td>\"Gangnam Style\"[31]</td>\n",
       "      <td>Psy</td>\n",
       "      <td>July 15, 2012</td>\n",
       "      <td>5.10</td>\n",
       "    </tr>\n",
       "    <tr>\n",
       "      <th>11</th>\n",
       "      <td>\"Learning Colors – Colorful Eggs on a Farm\"[36]</td>\n",
       "      <td>Miroshka TV</td>\n",
       "      <td>February 27, 2018</td>\n",
       "      <td>5.09</td>\n",
       "    </tr>\n",
       "    <tr>\n",
       "      <th>12</th>\n",
       "      <td>\"Dame Tu Cosita\"[37]</td>\n",
       "      <td>Ultra Records</td>\n",
       "      <td>April 5, 2018</td>\n",
       "      <td>4.59</td>\n",
       "    </tr>\n",
       "    <tr>\n",
       "      <th>13</th>\n",
       "      <td>\"Masha and the Bear – Recipe for Disaster\"[38]</td>\n",
       "      <td>Get Movies</td>\n",
       "      <td>January 31, 2012</td>\n",
       "      <td>4.57</td>\n",
       "    </tr>\n",
       "    <tr>\n",
       "      <th>14</th>\n",
       "      <td>\"Axel F\"[39]</td>\n",
       "      <td>Crazy Frog</td>\n",
       "      <td>June 16, 2009</td>\n",
       "      <td>4.45</td>\n",
       "    </tr>\n",
       "    <tr>\n",
       "      <th>15</th>\n",
       "      <td>\"Sugar\"[40]</td>\n",
       "      <td>Maroon 5</td>\n",
       "      <td>January 14, 2015</td>\n",
       "      <td>4.02</td>\n",
       "    </tr>\n",
       "    <tr>\n",
       "      <th>16</th>\n",
       "      <td>\"Baa Baa Black Sheep\"[41]</td>\n",
       "      <td>Cocomelon - Nursery Rhymes</td>\n",
       "      <td>June 25, 2018</td>\n",
       "      <td>4.01</td>\n",
       "    </tr>\n",
       "    <tr>\n",
       "      <th>17</th>\n",
       "      <td>\"Counting Stars\"[42]</td>\n",
       "      <td>OneRepublic</td>\n",
       "      <td>May 31, 2013</td>\n",
       "      <td>4.00</td>\n",
       "    </tr>\n",
       "    <tr>\n",
       "      <th>18</th>\n",
       "      <td>\"Lakdi Ki Kathi\"[43]</td>\n",
       "      <td>Jingle Toons</td>\n",
       "      <td>June 14, 2018</td>\n",
       "      <td>3.98</td>\n",
       "    </tr>\n",
       "    <tr>\n",
       "      <th>19</th>\n",
       "      <td>\"Roar\"[44]</td>\n",
       "      <td>Katy Perry</td>\n",
       "      <td>September 5, 2013</td>\n",
       "      <td>3.98</td>\n",
       "    </tr>\n",
       "    <tr>\n",
       "      <th>20</th>\n",
       "      <td>\"Waka Waka (This Time for Africa)\"[45]</td>\n",
       "      <td>Shakira</td>\n",
       "      <td>June 4, 2010</td>\n",
       "      <td>3.89</td>\n",
       "    </tr>\n",
       "    <tr>\n",
       "      <th>21</th>\n",
       "      <td>\"Sorry\"[46]</td>\n",
       "      <td>Justin Bieber</td>\n",
       "      <td>October 22, 2015</td>\n",
       "      <td>3.78</td>\n",
       "    </tr>\n",
       "    <tr>\n",
       "      <th>22</th>\n",
       "      <td>\"Shree Hanuman Chalisa\"[47]</td>\n",
       "      <td>T-Series Bhakti Sagar</td>\n",
       "      <td>May 10, 2011</td>\n",
       "      <td>3.77</td>\n",
       "    </tr>\n",
       "    <tr>\n",
       "      <th>23</th>\n",
       "      <td>\"Humpty the train on a fruits ride\"[48]</td>\n",
       "      <td>Kiddiestv Hindi - Nursery Rhymes &amp; Kids Songs</td>\n",
       "      <td>January 26, 2018</td>\n",
       "      <td>3.76</td>\n",
       "    </tr>\n",
       "    <tr>\n",
       "      <th>24</th>\n",
       "      <td>\"Thinking Out Loud\"[49]</td>\n",
       "      <td>Ed Sheeran</td>\n",
       "      <td>October 7, 2014</td>\n",
       "      <td>3.75</td>\n",
       "    </tr>\n",
       "    <tr>\n",
       "      <th>25</th>\n",
       "      <td>\"Perfect\"[50]</td>\n",
       "      <td>Ed Sheeran</td>\n",
       "      <td>November 9, 2017</td>\n",
       "      <td>3.70</td>\n",
       "    </tr>\n",
       "    <tr>\n",
       "      <th>26</th>\n",
       "      <td>\"Dark Horse\"[51]</td>\n",
       "      <td>Katy Perry</td>\n",
       "      <td>February 20, 2014</td>\n",
       "      <td>3.70</td>\n",
       "    </tr>\n",
       "    <tr>\n",
       "      <th>27</th>\n",
       "      <td>\"Let Her Go\"[52]</td>\n",
       "      <td>Passenger</td>\n",
       "      <td>July 25, 2012</td>\n",
       "      <td>3.64</td>\n",
       "    </tr>\n",
       "    <tr>\n",
       "      <th>28</th>\n",
       "      <td>\"Faded\"[53]</td>\n",
       "      <td>Alan Walker</td>\n",
       "      <td>December 3, 2015</td>\n",
       "      <td>3.60</td>\n",
       "    </tr>\n",
       "    <tr>\n",
       "      <th>29</th>\n",
       "      <td>\"Girls Like You\"[54]</td>\n",
       "      <td>Maroon 5</td>\n",
       "      <td>May 31, 2018</td>\n",
       "      <td>3.58</td>\n",
       "    </tr>\n",
       "    <tr>\n",
       "      <th>30</th>\n",
       "      <td>\"Lean On\"[55]</td>\n",
       "      <td>Major Lazer Official</td>\n",
       "      <td>March 22, 2015</td>\n",
       "      <td>3.57</td>\n",
       "    </tr>\n",
       "  </tbody>\n",
       "</table>\n",
       "</div>"
      ],
      "text/plain": [
       "                                                 Name  \\\n",
       "Rank                                                    \n",
       "1                               \"Baby Shark Dance\"[7]   \n",
       "2                                     \"Despacito\"[10]   \n",
       "3                          \"Johny Johny Yes Papa\"[18]   \n",
       "4                                     \"Bath Song\"[19]   \n",
       "5                                  \"Shape of You\"[20]   \n",
       "6                                 \"See You Again\"[23]   \n",
       "7                             \"Wheels on the Bus\"[28]   \n",
       "8                   \"Phonics Song with Two Words\"[29]   \n",
       "9                                   \"Uptown Funk\"[30]   \n",
       "10                                \"Gangnam Style\"[31]   \n",
       "11    \"Learning Colors – Colorful Eggs on a Farm\"[36]   \n",
       "12                               \"Dame Tu Cosita\"[37]   \n",
       "13     \"Masha and the Bear – Recipe for Disaster\"[38]   \n",
       "14                                       \"Axel F\"[39]   \n",
       "15                                        \"Sugar\"[40]   \n",
       "16                          \"Baa Baa Black Sheep\"[41]   \n",
       "17                               \"Counting Stars\"[42]   \n",
       "18                               \"Lakdi Ki Kathi\"[43]   \n",
       "19                                         \"Roar\"[44]   \n",
       "20             \"Waka Waka (This Time for Africa)\"[45]   \n",
       "21                                        \"Sorry\"[46]   \n",
       "22                        \"Shree Hanuman Chalisa\"[47]   \n",
       "23            \"Humpty the train on a fruits ride\"[48]   \n",
       "24                            \"Thinking Out Loud\"[49]   \n",
       "25                                      \"Perfect\"[50]   \n",
       "26                                   \"Dark Horse\"[51]   \n",
       "27                                   \"Let Her Go\"[52]   \n",
       "28                                        \"Faded\"[53]   \n",
       "29                               \"Girls Like You\"[54]   \n",
       "30                                      \"Lean On\"[55]   \n",
       "\n",
       "                                                 Artist        Upload Date  \\\n",
       "Rank                                                                         \n",
       "1           Pinkfong Baby Shark - Kids' Songs & Stories      June 17, 2016   \n",
       "2                                            Luis Fonsi   January 12, 2017   \n",
       "3     LooLoo Kids - Nursery Rhymes and Children's Songs    October 8, 2016   \n",
       "4                            Cocomelon - Nursery Rhymes        May 2, 2018   \n",
       "5                                            Ed Sheeran   January 30, 2017   \n",
       "6                                           Wiz Khalifa      April 6, 2015   \n",
       "7                            Cocomelon - Nursery Rhymes       May 24, 2018   \n",
       "8                 ChuChu TV Nursery Rhymes & Kids Songs      March 6, 2014   \n",
       "9                                           Mark Ronson  November 19, 2014   \n",
       "10                                                  Psy      July 15, 2012   \n",
       "11                                          Miroshka TV  February 27, 2018   \n",
       "12                                        Ultra Records      April 5, 2018   \n",
       "13                                           Get Movies   January 31, 2012   \n",
       "14                                           Crazy Frog      June 16, 2009   \n",
       "15                                             Maroon 5   January 14, 2015   \n",
       "16                           Cocomelon - Nursery Rhymes      June 25, 2018   \n",
       "17                                          OneRepublic       May 31, 2013   \n",
       "18                                         Jingle Toons      June 14, 2018   \n",
       "19                                           Katy Perry  September 5, 2013   \n",
       "20                                              Shakira       June 4, 2010   \n",
       "21                                        Justin Bieber   October 22, 2015   \n",
       "22                                T-Series Bhakti Sagar       May 10, 2011   \n",
       "23        Kiddiestv Hindi - Nursery Rhymes & Kids Songs   January 26, 2018   \n",
       "24                                           Ed Sheeran    October 7, 2014   \n",
       "25                                           Ed Sheeran   November 9, 2017   \n",
       "26                                           Katy Perry  February 20, 2014   \n",
       "27                                            Passenger      July 25, 2012   \n",
       "28                                          Alan Walker   December 3, 2015   \n",
       "29                                             Maroon 5       May 31, 2018   \n",
       "30                                 Major Lazer Official     March 22, 2015   \n",
       "\n",
       "      Views  \n",
       "Rank         \n",
       "1     14.32  \n",
       "2      8.41  \n",
       "3      6.89  \n",
       "4      6.66  \n",
       "5      6.23  \n",
       "6      6.22  \n",
       "7      6.01  \n",
       "8      5.75  \n",
       "9      5.18  \n",
       "10     5.10  \n",
       "11     5.09  \n",
       "12     4.59  \n",
       "13     4.57  \n",
       "14     4.45  \n",
       "15     4.02  \n",
       "16     4.01  \n",
       "17     4.00  \n",
       "18     3.98  \n",
       "19     3.98  \n",
       "20     3.89  \n",
       "21     3.78  \n",
       "22     3.77  \n",
       "23     3.76  \n",
       "24     3.75  \n",
       "25     3.70  \n",
       "26     3.70  \n",
       "27     3.64  \n",
       "28     3.60  \n",
       "29     3.58  \n",
       "30     3.57  "
      ]
     },
     "execution_count": 8,
     "metadata": {},
     "output_type": "execute_result"
    }
   ],
   "source": [
    "Youtube=pd.DataFrame({'Name':name,'Artist':artist,'Upload Date':upload_date,'Views':view})\n",
    "\n",
    "Youtube.index = Youtube.index + 1\n",
    "Youtube.index.name = 'Rank'\n",
    "Youtube"
   ]
  },
  {
   "cell_type": "code",
   "execution_count": 9,
   "id": "7e2780cb",
   "metadata": {},
   "outputs": [],
   "source": [
    "driver.close()"
   ]
  },
  {
   "cell_type": "markdown",
   "id": "f667661d",
   "metadata": {},
   "source": [
    "# 2. Scrape the details team India’s international fixtures from bcci.tv.\n",
    "Url = https://www.bcci.tv/.\n",
    "You need to find following details:\n",
    "A) Series\n",
    "B) Place\n",
    "C) Date\n",
    "D) Time\n",
    "Note: - From bcci.tv home page you have reach to the international fixture page through code. "
   ]
  },
  {
   "cell_type": "code",
   "execution_count": 19,
   "id": "4d387c43",
   "metadata": {},
   "outputs": [],
   "source": [
    "driver=webdriver.Chrome()\n",
    "driver.get('https://www.bcci.tv/.You')"
   ]
  },
  {
   "cell_type": "code",
   "execution_count": 20,
   "id": "9c044dc5",
   "metadata": {},
   "outputs": [
    {
     "ename": "AttributeError",
     "evalue": "'list' object has no attribute 'sleep'",
     "output_type": "error",
     "traceback": [
      "\u001b[1;31m---------------------------------------------------------------------------\u001b[0m",
      "\u001b[1;31mAttributeError\u001b[0m                            Traceback (most recent call last)",
      "Cell \u001b[1;32mIn[20], line 3\u001b[0m\n\u001b[0;32m      1\u001b[0m main_page\u001b[38;5;241m=\u001b[39mdriver\u001b[38;5;241m.\u001b[39mfind_element(By\u001b[38;5;241m.\u001b[39mXPATH,\u001b[38;5;124m'\u001b[39m\u001b[38;5;124m/html/body/header/div[3]/div[2]/ul/div[1]/a[2]\u001b[39m\u001b[38;5;124m'\u001b[39m)\n\u001b[0;32m      2\u001b[0m main_page\u001b[38;5;241m.\u001b[39mclick()\n\u001b[1;32m----> 3\u001b[0m time\u001b[38;5;241m.\u001b[39msleep(\u001b[38;5;241m2\u001b[39m)\n",
      "\u001b[1;31mAttributeError\u001b[0m: 'list' object has no attribute 'sleep'"
     ]
    }
   ],
   "source": [
    "main_page=driver.find_element(By.XPATH,'/html/body/header/div[3]/div[2]/ul/div[1]/a[2]')\n",
    "main_page.click()\n",
    "time.sleep(2)"
   ]
  },
  {
   "cell_type": "code",
   "execution_count": 12,
   "id": "54934e5f",
   "metadata": {},
   "outputs": [],
   "source": [
    "series=[]\n",
    "place=[]\n",
    "date=[]\n",
    "time=[]\n"
   ]
  },
  {
   "cell_type": "code",
   "execution_count": 13,
   "id": "2a41101a",
   "metadata": {},
   "outputs": [],
   "source": [
    "series_tag=driver.find_elements(By.XPATH,'//h5[@class=\"match-tournament-name ng-binding\"]')\n",
    "for tag in series_tag:\n",
    "    series.append(tag.text)"
   ]
  },
  {
   "cell_type": "code",
   "execution_count": 14,
   "id": "34bb41cb",
   "metadata": {},
   "outputs": [],
   "source": [
    "place_tag=driver.find_elements(By.XPATH,'//div[@class=\"match-place ng-scope\"]')\n",
    "for tag in place_tag:\n",
    "    place.append(tag.text)"
   ]
  },
  {
   "cell_type": "code",
   "execution_count": 15,
   "id": "502ff1fb",
   "metadata": {},
   "outputs": [],
   "source": [
    "date_tag=driver.find_elements(By.XPATH,'//div[@class=\"match-dates ng-binding\"]')\n",
    "for tag in date_tag:\n",
    "    date.append(tag.text)"
   ]
  },
  {
   "cell_type": "code",
   "execution_count": 16,
   "id": "4b86080c",
   "metadata": {},
   "outputs": [],
   "source": [
    "time_tag=driver.find_elements(By.XPATH,'//div[@class=\"match-time no-margin ng-binding\"]')\n",
    "for tag in time_tag:\n",
    "    time.append(tag.text)"
   ]
  },
  {
   "cell_type": "code",
   "execution_count": 17,
   "id": "5c78e417",
   "metadata": {},
   "outputs": [
    {
     "data": {
      "text/html": [
       "<div>\n",
       "<style scoped>\n",
       "    .dataframe tbody tr th:only-of-type {\n",
       "        vertical-align: middle;\n",
       "    }\n",
       "\n",
       "    .dataframe tbody tr th {\n",
       "        vertical-align: top;\n",
       "    }\n",
       "\n",
       "    .dataframe thead th {\n",
       "        text-align: right;\n",
       "    }\n",
       "</style>\n",
       "<table border=\"1\" class=\"dataframe\">\n",
       "  <thead>\n",
       "    <tr style=\"text-align: right;\">\n",
       "      <th></th>\n",
       "      <th>Series</th>\n",
       "      <th>Place</th>\n",
       "      <th>Date</th>\n",
       "      <th>Time</th>\n",
       "    </tr>\n",
       "  </thead>\n",
       "  <tbody>\n",
       "    <tr>\n",
       "      <th>0</th>\n",
       "      <td>INDIA WOMEN TOUR OF BANGLADESH T20 SERIES 2024</td>\n",
       "      <td>Sylhet International Cricket Stadium, Sylhet</td>\n",
       "      <td>9 MAY, 2024</td>\n",
       "      <td>3:30 PM IST</td>\n",
       "    </tr>\n",
       "    <tr>\n",
       "      <th>1</th>\n",
       "      <td>ICC MENS T20 WORLD CUP 2024</td>\n",
       "      <td>Nassau County International Cricket Stadium, N...</td>\n",
       "      <td>5 JUNE, 2024</td>\n",
       "      <td>8:00 PM IST</td>\n",
       "    </tr>\n",
       "    <tr>\n",
       "      <th>2</th>\n",
       "      <td>ICC MENS T20 WORLD CUP 2024</td>\n",
       "      <td>Nassau County International Cricket Stadium, N...</td>\n",
       "      <td>9 JUNE, 2024</td>\n",
       "      <td>8:00 PM IST</td>\n",
       "    </tr>\n",
       "    <tr>\n",
       "      <th>3</th>\n",
       "      <td>ICC MENS T20 WORLD CUP 2024</td>\n",
       "      <td>Nassau County International Cricket Stadium, N...</td>\n",
       "      <td>12 JUNE, 2024</td>\n",
       "      <td>8:00 PM IST</td>\n",
       "    </tr>\n",
       "    <tr>\n",
       "      <th>4</th>\n",
       "      <td>ICC MENS T20 WORLD CUP 2024</td>\n",
       "      <td>Central Broward Park &amp; Broward County Stadium,...</td>\n",
       "      <td>15 JUNE, 2024</td>\n",
       "      <td>8:00 PM IST</td>\n",
       "    </tr>\n",
       "    <tr>\n",
       "      <th>5</th>\n",
       "      <td>INDIA TOUR OF ZIMBABWE 2024</td>\n",
       "      <td>Harare Sports Club, Harare</td>\n",
       "      <td>6 JULY, 2024</td>\n",
       "      <td>8:00 PM IST</td>\n",
       "    </tr>\n",
       "    <tr>\n",
       "      <th>6</th>\n",
       "      <td>INDIA TOUR OF ZIMBABWE 2024</td>\n",
       "      <td>Harare Sports Club, Harare</td>\n",
       "      <td>7 JULY, 2024</td>\n",
       "      <td>8:00 PM IST</td>\n",
       "    </tr>\n",
       "    <tr>\n",
       "      <th>7</th>\n",
       "      <td>INDIA TOUR OF ZIMBABWE 2024</td>\n",
       "      <td>Harare Sports Club, Harare</td>\n",
       "      <td>10 JULY, 2024</td>\n",
       "      <td>8:00 PM IST</td>\n",
       "    </tr>\n",
       "    <tr>\n",
       "      <th>8</th>\n",
       "      <td>INDIA TOUR OF ZIMBABWE 2024</td>\n",
       "      <td>Harare Sports Club, Harare</td>\n",
       "      <td>13 JULY, 2024</td>\n",
       "      <td>8:00 PM IST</td>\n",
       "    </tr>\n",
       "  </tbody>\n",
       "</table>\n",
       "</div>"
      ],
      "text/plain": [
       "                                           Series  \\\n",
       "0  INDIA WOMEN TOUR OF BANGLADESH T20 SERIES 2024   \n",
       "1                     ICC MENS T20 WORLD CUP 2024   \n",
       "2                     ICC MENS T20 WORLD CUP 2024   \n",
       "3                     ICC MENS T20 WORLD CUP 2024   \n",
       "4                     ICC MENS T20 WORLD CUP 2024   \n",
       "5                     INDIA TOUR OF ZIMBABWE 2024   \n",
       "6                     INDIA TOUR OF ZIMBABWE 2024   \n",
       "7                     INDIA TOUR OF ZIMBABWE 2024   \n",
       "8                     INDIA TOUR OF ZIMBABWE 2024   \n",
       "\n",
       "                                               Place           Date  \\\n",
       "0       Sylhet International Cricket Stadium, Sylhet    9 MAY, 2024   \n",
       "1  Nassau County International Cricket Stadium, N...   5 JUNE, 2024   \n",
       "2  Nassau County International Cricket Stadium, N...   9 JUNE, 2024   \n",
       "3  Nassau County International Cricket Stadium, N...  12 JUNE, 2024   \n",
       "4  Central Broward Park & Broward County Stadium,...  15 JUNE, 2024   \n",
       "5                         Harare Sports Club, Harare   6 JULY, 2024   \n",
       "6                         Harare Sports Club, Harare   7 JULY, 2024   \n",
       "7                         Harare Sports Club, Harare  10 JULY, 2024   \n",
       "8                         Harare Sports Club, Harare  13 JULY, 2024   \n",
       "\n",
       "          Time  \n",
       "0  3:30 PM IST  \n",
       "1  8:00 PM IST  \n",
       "2  8:00 PM IST  \n",
       "3  8:00 PM IST  \n",
       "4  8:00 PM IST  \n",
       "5  8:00 PM IST  \n",
       "6  8:00 PM IST  \n",
       "7  8:00 PM IST  \n",
       "8  8:00 PM IST  "
      ]
     },
     "execution_count": 17,
     "metadata": {},
     "output_type": "execute_result"
    }
   ],
   "source": [
    "International_main=pd.DataFrame({'Series':series,'Place':place,'Date':date,'Time':time})\n",
    "International_main"
   ]
  },
  {
   "cell_type": "code",
   "execution_count": 18,
   "id": "a9df080e",
   "metadata": {},
   "outputs": [],
   "source": [
    "driver.close()"
   ]
  },
  {
   "cell_type": "markdown",
   "id": "93f93fe7",
   "metadata": {},
   "source": [
    "# 3. Scrape the details of State-wise GDP of India from statisticstime.com.\n",
    "Url = http://statisticstimes.com/\n",
    "You have to find following details: A) Rank\n",
    "B) State\n",
    "C) GSDP(18-19)- at current prices\n",
    "D) GSDP(19-20)- at current prices\n",
    "E) Share(18-19)\n",
    "F) GDP($ billion)\n",
    "Note: - From statisticstimes home page you have to reach to economy page through code. "
   ]
  },
  {
   "cell_type": "code",
   "execution_count": 33,
   "id": "711c1c8f",
   "metadata": {},
   "outputs": [],
   "source": [
    "driver=webdriver.Chrome()\n",
    "driver.get('http://statisticstimes.com/')"
   ]
  },
  {
   "cell_type": "code",
   "execution_count": 34,
   "id": "d6abf161",
   "metadata": {},
   "outputs": [],
   "source": [
    "eco=driver.find_element(By.XPATH,'/html/body/div[2]/div[1]/div[2]/div[2]/button')\n",
    "eco.click()\n"
   ]
  },
  {
   "cell_type": "code",
   "execution_count": 35,
   "id": "d29a7c52",
   "metadata": {},
   "outputs": [],
   "source": [
    "india=driver.find_element(By.XPATH,'/html/body/div[2]/div[1]/div[2]/div[2]/div/a[3]')\n",
    "india.click()"
   ]
  },
  {
   "cell_type": "code",
   "execution_count": 36,
   "id": "92f4cc83",
   "metadata": {},
   "outputs": [
    {
     "ename": "NoSuchElementException",
     "evalue": "Message: no such element: Unable to locate element: {\"method\":\"xpath\",\"selector\":\"/html/body/div[2]/div[2]/div[2]/ul/li[1]/a\"}\n  (Session info: chrome=124.0.6367.119); For documentation on this error, please visit: https://www.selenium.dev/documentation/webdriver/troubleshooting/errors#no-such-element-exception\nStacktrace:\n\tGetHandleVerifier [0x00007FF781E21502+60802]\n\t(No symbol) [0x00007FF781D9AC02]\n\t(No symbol) [0x00007FF781C57CE4]\n\t(No symbol) [0x00007FF781CA6D4D]\n\t(No symbol) [0x00007FF781CA6E1C]\n\t(No symbol) [0x00007FF781CECE37]\n\t(No symbol) [0x00007FF781CCABBF]\n\t(No symbol) [0x00007FF781CEA224]\n\t(No symbol) [0x00007FF781CCA923]\n\t(No symbol) [0x00007FF781C98FEC]\n\t(No symbol) [0x00007FF781C99C21]\n\tGetHandleVerifier [0x00007FF78212411D+3217821]\n\tGetHandleVerifier [0x00007FF7821660B7+3488055]\n\tGetHandleVerifier [0x00007FF78215F03F+3459263]\n\tGetHandleVerifier [0x00007FF781EDB846+823494]\n\t(No symbol) [0x00007FF781DA5F9F]\n\t(No symbol) [0x00007FF781DA0EC4]\n\t(No symbol) [0x00007FF781DA1052]\n\t(No symbol) [0x00007FF781D918A4]\n\tBaseThreadInitThunk [0x00007FF87E29257D+29]\n\tRtlUserThreadStart [0x00007FF87F5CAA48+40]\n",
     "output_type": "error",
     "traceback": [
      "\u001b[1;31m---------------------------------------------------------------------------\u001b[0m",
      "\u001b[1;31mNoSuchElementException\u001b[0m                    Traceback (most recent call last)",
      "Cell \u001b[1;32mIn[36], line 1\u001b[0m\n\u001b[1;32m----> 1\u001b[0m state_wise\u001b[38;5;241m=\u001b[39mdriver\u001b[38;5;241m.\u001b[39mfind_element(By\u001b[38;5;241m.\u001b[39mXPATH,\u001b[38;5;124m'\u001b[39m\u001b[38;5;124m/html/body/div[2]/div[2]/div[2]/ul/li[1]/a\u001b[39m\u001b[38;5;124m'\u001b[39m)\n\u001b[0;32m      2\u001b[0m state_wise\u001b[38;5;241m.\u001b[39mclick()\n",
      "File \u001b[1;32m~\\anaconda3\\Lib\\site-packages\\selenium\\webdriver\\remote\\webdriver.py:741\u001b[0m, in \u001b[0;36mWebDriver.find_element\u001b[1;34m(self, by, value)\u001b[0m\n\u001b[0;32m    738\u001b[0m     by \u001b[38;5;241m=\u001b[39m By\u001b[38;5;241m.\u001b[39mCSS_SELECTOR\n\u001b[0;32m    739\u001b[0m     value \u001b[38;5;241m=\u001b[39m \u001b[38;5;124mf\u001b[39m\u001b[38;5;124m'\u001b[39m\u001b[38;5;124m[name=\u001b[39m\u001b[38;5;124m\"\u001b[39m\u001b[38;5;132;01m{\u001b[39;00mvalue\u001b[38;5;132;01m}\u001b[39;00m\u001b[38;5;124m\"\u001b[39m\u001b[38;5;124m]\u001b[39m\u001b[38;5;124m'\u001b[39m\n\u001b[1;32m--> 741\u001b[0m \u001b[38;5;28;01mreturn\u001b[39;00m \u001b[38;5;28mself\u001b[39m\u001b[38;5;241m.\u001b[39mexecute(Command\u001b[38;5;241m.\u001b[39mFIND_ELEMENT, {\u001b[38;5;124m\"\u001b[39m\u001b[38;5;124musing\u001b[39m\u001b[38;5;124m\"\u001b[39m: by, \u001b[38;5;124m\"\u001b[39m\u001b[38;5;124mvalue\u001b[39m\u001b[38;5;124m\"\u001b[39m: value})[\u001b[38;5;124m\"\u001b[39m\u001b[38;5;124mvalue\u001b[39m\u001b[38;5;124m\"\u001b[39m]\n",
      "File \u001b[1;32m~\\anaconda3\\Lib\\site-packages\\selenium\\webdriver\\remote\\webdriver.py:347\u001b[0m, in \u001b[0;36mWebDriver.execute\u001b[1;34m(self, driver_command, params)\u001b[0m\n\u001b[0;32m    345\u001b[0m response \u001b[38;5;241m=\u001b[39m \u001b[38;5;28mself\u001b[39m\u001b[38;5;241m.\u001b[39mcommand_executor\u001b[38;5;241m.\u001b[39mexecute(driver_command, params)\n\u001b[0;32m    346\u001b[0m \u001b[38;5;28;01mif\u001b[39;00m response:\n\u001b[1;32m--> 347\u001b[0m     \u001b[38;5;28mself\u001b[39m\u001b[38;5;241m.\u001b[39merror_handler\u001b[38;5;241m.\u001b[39mcheck_response(response)\n\u001b[0;32m    348\u001b[0m     response[\u001b[38;5;124m\"\u001b[39m\u001b[38;5;124mvalue\u001b[39m\u001b[38;5;124m\"\u001b[39m] \u001b[38;5;241m=\u001b[39m \u001b[38;5;28mself\u001b[39m\u001b[38;5;241m.\u001b[39m_unwrap_value(response\u001b[38;5;241m.\u001b[39mget(\u001b[38;5;124m\"\u001b[39m\u001b[38;5;124mvalue\u001b[39m\u001b[38;5;124m\"\u001b[39m, \u001b[38;5;28;01mNone\u001b[39;00m))\n\u001b[0;32m    349\u001b[0m     \u001b[38;5;28;01mreturn\u001b[39;00m response\n",
      "File \u001b[1;32m~\\anaconda3\\Lib\\site-packages\\selenium\\webdriver\\remote\\errorhandler.py:229\u001b[0m, in \u001b[0;36mErrorHandler.check_response\u001b[1;34m(self, response)\u001b[0m\n\u001b[0;32m    227\u001b[0m         alert_text \u001b[38;5;241m=\u001b[39m value[\u001b[38;5;124m\"\u001b[39m\u001b[38;5;124malert\u001b[39m\u001b[38;5;124m\"\u001b[39m]\u001b[38;5;241m.\u001b[39mget(\u001b[38;5;124m\"\u001b[39m\u001b[38;5;124mtext\u001b[39m\u001b[38;5;124m\"\u001b[39m)\n\u001b[0;32m    228\u001b[0m     \u001b[38;5;28;01mraise\u001b[39;00m exception_class(message, screen, stacktrace, alert_text)  \u001b[38;5;66;03m# type: ignore[call-arg]  # mypy is not smart enough here\u001b[39;00m\n\u001b[1;32m--> 229\u001b[0m \u001b[38;5;28;01mraise\u001b[39;00m exception_class(message, screen, stacktrace)\n",
      "\u001b[1;31mNoSuchElementException\u001b[0m: Message: no such element: Unable to locate element: {\"method\":\"xpath\",\"selector\":\"/html/body/div[2]/div[2]/div[2]/ul/li[1]/a\"}\n  (Session info: chrome=124.0.6367.119); For documentation on this error, please visit: https://www.selenium.dev/documentation/webdriver/troubleshooting/errors#no-such-element-exception\nStacktrace:\n\tGetHandleVerifier [0x00007FF781E21502+60802]\n\t(No symbol) [0x00007FF781D9AC02]\n\t(No symbol) [0x00007FF781C57CE4]\n\t(No symbol) [0x00007FF781CA6D4D]\n\t(No symbol) [0x00007FF781CA6E1C]\n\t(No symbol) [0x00007FF781CECE37]\n\t(No symbol) [0x00007FF781CCABBF]\n\t(No symbol) [0x00007FF781CEA224]\n\t(No symbol) [0x00007FF781CCA923]\n\t(No symbol) [0x00007FF781C98FEC]\n\t(No symbol) [0x00007FF781C99C21]\n\tGetHandleVerifier [0x00007FF78212411D+3217821]\n\tGetHandleVerifier [0x00007FF7821660B7+3488055]\n\tGetHandleVerifier [0x00007FF78215F03F+3459263]\n\tGetHandleVerifier [0x00007FF781EDB846+823494]\n\t(No symbol) [0x00007FF781DA5F9F]\n\t(No symbol) [0x00007FF781DA0EC4]\n\t(No symbol) [0x00007FF781DA1052]\n\t(No symbol) [0x00007FF781D918A4]\n\tBaseThreadInitThunk [0x00007FF87E29257D+29]\n\tRtlUserThreadStart [0x00007FF87F5CAA48+40]\n"
     ]
    }
   ],
   "source": [
    "state_wise=driver.find_element(By.XPATH,'/html/body/div[2]/div[2]/div[2]/ul/li[1]/a')\n",
    "state_wise.click()"
   ]
  },
  {
   "cell_type": "code",
   "execution_count": null,
   "id": "c50548d9",
   "metadata": {},
   "outputs": [],
   "source": [
    "Rank=[]\n",
    "state=[]\n",
    "Gsdp=[]\n",
    "gsdp=[]\n",
    "share=[]\n",
    "gdp=[]\n"
   ]
  },
  {
   "cell_type": "code",
   "execution_count": null,
   "id": "5569b2c1",
   "metadata": {},
   "outputs": [],
   "source": [
    "rank_tag=driver.find_elements(By.XPATH,'//div[5][@class=\"fwidth\"]/div[1]/div[1]/table/tbody/tr/td[1]')\n",
    "for tag in rank_tag:\n",
    "    Rank.append(tag.text)"
   ]
  },
  {
   "cell_type": "code",
   "execution_count": null,
   "id": "cbc6f3ff",
   "metadata": {},
   "outputs": [],
   "source": [
    "state_tag=driver.find_elements(By.XPATH,'//div[5][@class=\"fwidth\"]/div[1]/div[1]/table/tbody/tr/td[2]')\n",
    "for tag in state_tag:\n",
    "    state.append(tag.text)"
   ]
  },
  {
   "cell_type": "code",
   "execution_count": null,
   "id": "0c2e3317",
   "metadata": {},
   "outputs": [],
   "source": [
    "Gsdp_tag=driver.find_elements(By.XPATH,'//div[5][@class=\"fwidth\"]/div[1]/div[1]/table/tbody/tr/td[4]')\n",
    "for tag in Gsdp_tag:\n",
    "    Gsdp.append(tag.text)"
   ]
  },
  {
   "cell_type": "code",
   "execution_count": null,
   "id": "b52f94b1",
   "metadata": {},
   "outputs": [],
   "source": [
    "gsdp_tag=driver.find_elements(By.XPATH,'//div[5][@class=\"fwidth\"]/div[1]/div[1]/table/tbody/tr/td[3]')\n",
    "for tag in gsdp_tag:\n",
    "    gsdp.append(tag.text)"
   ]
  },
  {
   "cell_type": "code",
   "execution_count": null,
   "id": "530cdc07",
   "metadata": {},
   "outputs": [],
   "source": [
    "share_tag=driver.find_elements(By.XPATH,'//div[5][@class=\"fwidth\"]/div[1]/div[1]/table/tbody/tr/td[5]')\n",
    "for tag in share_tag:\n",
    "    share.append(tag.text)"
   ]
  },
  {
   "cell_type": "code",
   "execution_count": null,
   "id": "578b4254",
   "metadata": {},
   "outputs": [],
   "source": [
    "gdp_tag=driver.find_elements(By.XPATH,'//div[5][@class=\"fwidth\"]/div[1]/div[1]/table/tbody/tr/td[6]')\n",
    "for tag in gdp_tag:\n",
    "    gdp.append(tag.text)"
   ]
  },
  {
   "cell_type": "code",
   "execution_count": null,
   "id": "a440fdb8",
   "metadata": {},
   "outputs": [],
   "source": [
    "State_wise_GDP=pd.DataFrame({'Rank':Rank,'State':state,'GSDP(21-22)At_current_prices':Gsdp,'GSDP(22-23)_At_current_prices':gsdp,'Share(21-22)':share,'GDP ($ Billion)':gdp})\n",
    "State_wise_GDP.set_index('Rank',inplace=True)\n",
    "State_wise_GDP"
   ]
  },
  {
   "cell_type": "code",
   "execution_count": null,
   "id": "8725876e",
   "metadata": {},
   "outputs": [],
   "source": [
    "driver.close()"
   ]
  },
  {
   "cell_type": "markdown",
   "id": "968c4686",
   "metadata": {},
   "source": [
    "# 4. Scrape the details of trending repositories on Github.com.\n",
    "Url = https://github.com/\n",
    "You have to find the following details:\n",
    "A) Repository title\n",
    "B) Repository description\n",
    "C) Contributors count\n",
    "D) Language used \n",
    "Note: - From the home page you have to click on the trending option from Explore menu through code. "
   ]
  },
  {
   "cell_type": "code",
   "execution_count": null,
   "id": "610309ec",
   "metadata": {},
   "outputs": [],
   "source": [
    "driver=webdriver.Chrome()\n",
    "driver.get('https://github.com/You')"
   ]
  },
  {
   "cell_type": "code",
   "execution_count": null,
   "id": "db2dfc1f",
   "metadata": {},
   "outputs": [],
   "source": [
    "menu_button=driver.find_element(By.XPATH,'/html/body/div[1]/div[1]/header/div/div[1]/div[2]/button/span/span')\n",
    "menu_button.click()"
   ]
  },
  {
   "cell_type": "code",
   "execution_count": null,
   "id": "c3333372",
   "metadata": {},
   "outputs": [],
   "source": [
    "source_button=driver.find_element(By.XPATH,'/html/body/div[1]/div[1]/header/div/div[2]/div/nav/ul/li[3]/button')\n",
    "source_button.click()"
   ]
  },
  {
   "cell_type": "code",
   "execution_count": null,
   "id": "11674724",
   "metadata": {},
   "outputs": [],
   "source": [
    "trending=driver.find_element(By.XPATH,'/html/body/div[1]/div[1]/header/div/div[2]/div/nav/ul/li[3]/div/div[3]/ul/li[2]/a')\n",
    "trending.click()"
   ]
  },
  {
   "cell_type": "code",
   "execution_count": null,
   "id": "52c559f8",
   "metadata": {},
   "outputs": [],
   "source": [
    "repository_title=[]\n",
    "repository_description=[]\n",
    "contributors_count=[]\n",
    "language_used=[]"
   ]
  },
  {
   "cell_type": "code",
   "execution_count": null,
   "id": "5e1d7f13",
   "metadata": {},
   "outputs": [],
   "source": [
    "title_tag=driver.find_elements(By.XPATH,'//h2[@class=\"h3 lh-condensed\"]')\n",
    "for tag in title_tag:\n",
    "    repository_title.append(tag.text)"
   ]
  },
  {
   "cell_type": "code",
   "execution_count": null,
   "id": "84a2bbdf",
   "metadata": {},
   "outputs": [],
   "source": [
    "description_tag=driver.find_elements(By.XPATH,'//p[@class=\"col-9 color-fg-muted my-1 pr-4\"]')\n",
    "for tag in description_tag:\n",
    "    repository_description.append(tag.text)"
   ]
  },
  {
   "cell_type": "code",
   "execution_count": null,
   "id": "cab7bbbc",
   "metadata": {},
   "outputs": [],
   "source": [
    "contributors_tag=driver.find_elements(By.XPATH,'//a[2][@class=\"Link Link--muted d-inline-block mr-3\"]')\n",
    "for tag in contributors_tag:\n",
    "    contributors_count.append(tag.text)"
   ]
  },
  {
   "cell_type": "code",
   "execution_count": null,
   "id": "aa3b5506",
   "metadata": {},
   "outputs": [],
   "source": [
    "try:\n",
    "    Language_used=[]\n",
    "    language_tag=driver.find_elements(By.XPATH,'//div[@class=\"f6 color-fg-muted mt-2\"]/span[1]')\n",
    "    for tag in language_tag:\n",
    "        Language_used.append(tag.text)  \n",
    "except NoSuchElementException:\n",
    "    Language_used.append(\"_\")\n",
    "    "
   ]
  },
  {
   "cell_type": "code",
   "execution_count": null,
   "id": "9ac9268c",
   "metadata": {},
   "outputs": [],
   "source": [
    "Trending_reprository=pd.DataFrame({'Repository Title':repository_title,'Repository Description':repository_description,'Contributors count':contributors_count, 'Language Used':Language_used})\n",
    "Trending_reprository"
   ]
  },
  {
   "cell_type": "code",
   "execution_count": null,
   "id": "2829b526",
   "metadata": {},
   "outputs": [],
   "source": [
    "driver.close()"
   ]
  },
  {
   "cell_type": "markdown",
   "id": "1cba9e0f",
   "metadata": {},
   "source": [
    "# 5. Scrape the details of top 100 songs on billiboard.com. Url = https:/www.billboard.com/ You have to find the\n",
    "following details:\n",
    "A) Song name\n",
    "B) Artist name\n",
    "C) Last week rank\n",
    "D) Peak rank\n",
    "E) Weeks on board\n",
    " Note: - From the home page you have to click on the charts option then hot 100-page link through code."
   ]
  },
  {
   "cell_type": "code",
   "execution_count": null,
   "id": "a1a33884",
   "metadata": {},
   "outputs": [],
   "source": [
    "driver=webdriver.Chrome()\n",
    "driver.get('https://www.billboard.com/')"
   ]
  },
  {
   "cell_type": "code",
   "execution_count": null,
   "id": "d1f9d169",
   "metadata": {},
   "outputs": [],
   "source": [
    "menu=driver.find_element(By.XPATH,'/html/body/div[3]/header/div/div[4]/div/div[1]/div[1]/button')\n",
    "menu.click()"
   ]
  },
  {
   "cell_type": "code",
   "execution_count": null,
   "id": "a7806f7d",
   "metadata": {},
   "outputs": [],
   "source": [
    "charts=driver.find_element(By.XPATH,'/html/body/div[3]/div[9]/div/div/div/ul/li[1]/h3/a')\n",
    "charts.click()"
   ]
  },
  {
   "cell_type": "code",
   "execution_count": null,
   "id": "c515e749",
   "metadata": {},
   "outputs": [],
   "source": [
    "top_100=driver.find_element(By.XPATH,'/html/body/div[3]/main/div[2]/div[3]/div/div/div[2]/div/div[1]/a/span/span')\n",
    "top_100.click()"
   ]
  },
  {
   "cell_type": "code",
   "execution_count": null,
   "id": "2de8039b",
   "metadata": {},
   "outputs": [],
   "source": [
    "Song_name=[]\n",
    "artist_name=[]\n",
    "Last_week_rank=[]\n",
    "Peak_rank=[]\n",
    "weeks=[]"
   ]
  },
  {
   "cell_type": "code",
   "execution_count": null,
   "id": "96e03cf8",
   "metadata": {},
   "outputs": [],
   "source": [
    "song_tag=driver.find_elements(By.XPATH,'//div[@class=\"chart-results-list // lrv-u-padding-t-150 lrv-u-padding-t-050@mobile-max\"]//ul//li[4]//ul//li[1]//h3')\n",
    "for tag in song_tag:\n",
    "    Song_name.append(tag.text)"
   ]
  },
  {
   "cell_type": "code",
   "execution_count": null,
   "id": "5e8dfd5e",
   "metadata": {},
   "outputs": [],
   "source": [
    "artist_tag=driver.find_elements(By.XPATH,'//div[@class=\"chart-results-list // lrv-u-padding-t-150 lrv-u-padding-t-050@mobile-max\"]//ul//li[4]//ul//li[1]/span')\n",
    "for tag in artist_tag:\n",
    "    artist_name.append(tag.text)"
   ]
  },
  {
   "cell_type": "code",
   "execution_count": null,
   "id": "0fda8e73",
   "metadata": {},
   "outputs": [],
   "source": [
    "weekrank_tag=driver.find_elements(By.XPATH,'//div[@class=\"chart-results-list // lrv-u-padding-t-150 lrv-u-padding-t-050@mobile-max\"]//ul//li[4]/ul/li[4]/span[1]')\n",
    "for tag in weekrank_tag:\n",
    "    Last_week_rank.append(tag.text)"
   ]
  },
  {
   "cell_type": "code",
   "execution_count": null,
   "id": "52e98a61",
   "metadata": {},
   "outputs": [],
   "source": [
    "peakrank_tag=driver.find_elements(By.XPATH,'//div[@class=\"chart-results-list // lrv-u-padding-t-150 lrv-u-padding-t-050@mobile-max\"]//ul/li[4]/ul/li[5]')\n",
    "for tag in peakrank_tag:\n",
    "    Peak_rank.append(tag.text)"
   ]
  },
  {
   "cell_type": "code",
   "execution_count": null,
   "id": "ba383cd5",
   "metadata": {},
   "outputs": [],
   "source": [
    "week_tag=driver.find_elements(By.XPATH,'//div[@class=\"chart-results-list // lrv-u-padding-t-150 lrv-u-padding-t-050@mobile-max\"]//ul//li[4]//ul//li[6]')\n",
    "for tag in week_tag:\n",
    "    weeks.append(tag.text)"
   ]
  },
  {
   "cell_type": "code",
   "execution_count": null,
   "id": "14062641",
   "metadata": {},
   "outputs": [],
   "source": [
    "len(weeks)"
   ]
  },
  {
   "cell_type": "code",
   "execution_count": null,
   "id": "15d1961c",
   "metadata": {},
   "outputs": [],
   "source": [
    "Top_100_songs=pd.DataFrame({'Song name':Song_name,'Artist Name':artist_name,'Last Week Rank':Last_week_rank,'Peak Rank':Peak_rank,'Weeks On Board':weeks})\n",
    "\n",
    "Top_100_songs"
   ]
  },
  {
   "cell_type": "markdown",
   "id": "8cdc74f8",
   "metadata": {},
   "source": [
    "# 6. Scrape the details of Highest selling novels.\n",
    "A) Book name\n",
    "B) Author name\n",
    "C) Volumes sold\n",
    "D) Publisher\n",
    "E) Genre\n",
    " Url - https://www.theguardian.com/news/datablog/2012/aug/09/best-selling-books-all-time-fifty-shades-grey-compare"
   ]
  },
  {
   "cell_type": "code",
   "execution_count": 37,
   "id": "7265336d",
   "metadata": {},
   "outputs": [],
   "source": [
    "driver=webdriver.Chrome()\n",
    "driver.get('https://www.theguardian.com/news/datablog/2012/aug/09/best-selling-books-all-time-fifty-shades-grey-compare')"
   ]
  },
  {
   "cell_type": "code",
   "execution_count": 38,
   "id": "e886c666",
   "metadata": {},
   "outputs": [],
   "source": [
    "book_name=[]\n",
    "author_name=[]\n",
    "volumes_sold=[]\n",
    "publisher=[]\n",
    "genre=[]"
   ]
  },
  {
   "cell_type": "code",
   "execution_count": 39,
   "id": "a554c86c",
   "metadata": {},
   "outputs": [],
   "source": [
    "rank=[]\n",
    "rank_tag=driver.find_elements(By.XPATH,'//table[@class=\"in-article sortable\"]/tbody/tr/td[1]')\n",
    "for tag in rank_tag:\n",
    "    rank.append(tag.text)"
   ]
  },
  {
   "cell_type": "code",
   "execution_count": 40,
   "id": "6208ea36",
   "metadata": {},
   "outputs": [],
   "source": [
    "book_tag=driver.find_elements(By.XPATH,'//table[@class=\"in-article sortable\"]/tbody/tr/td[2]')\n",
    "for tag in book_tag:\n",
    "    book_name.append(tag.text)"
   ]
  },
  {
   "cell_type": "code",
   "execution_count": 41,
   "id": "524ad1c4",
   "metadata": {},
   "outputs": [],
   "source": [
    "author_tag=driver.find_elements(By.XPATH,'//table[@class=\"in-article sortable\"]/tbody/tr/td[3]')\n",
    "for tag in author_tag:\n",
    "    author_name.append(tag.text)"
   ]
  },
  {
   "cell_type": "code",
   "execution_count": 42,
   "id": "36c6bd31",
   "metadata": {},
   "outputs": [],
   "source": [
    "volume_tag=driver.find_elements(By.XPATH,'//table[@class=\"in-article sortable\"]/tbody/tr/td[4]')\n",
    "for tag in volume_tag:\n",
    "    volumes_sold.append(tag.text)"
   ]
  },
  {
   "cell_type": "code",
   "execution_count": 43,
   "id": "b9743b67",
   "metadata": {},
   "outputs": [],
   "source": [
    "publisher_tag=driver.find_elements(By.XPATH,'//table[@class=\"in-article sortable\"]/tbody/tr/td[5]')\n",
    "for tag in publisher_tag:\n",
    "    publisher.append(tag.text)"
   ]
  },
  {
   "cell_type": "code",
   "execution_count": 44,
   "id": "d9822289",
   "metadata": {},
   "outputs": [],
   "source": [
    "genre_tag=driver.find_elements(By.XPATH,'//table[@class=\"in-article sortable\"]/tbody/tr/td[6]')\n",
    "for tag in genre_tag:\n",
    "    genre.append(tag.text)"
   ]
  },
  {
   "cell_type": "code",
   "execution_count": 45,
   "id": "7a355ea6",
   "metadata": {},
   "outputs": [
    {
     "data": {
      "text/html": [
       "<div>\n",
       "<style scoped>\n",
       "    .dataframe tbody tr th:only-of-type {\n",
       "        vertical-align: middle;\n",
       "    }\n",
       "\n",
       "    .dataframe tbody tr th {\n",
       "        vertical-align: top;\n",
       "    }\n",
       "\n",
       "    .dataframe thead th {\n",
       "        text-align: right;\n",
       "    }\n",
       "</style>\n",
       "<table border=\"1\" class=\"dataframe\">\n",
       "  <thead>\n",
       "    <tr style=\"text-align: right;\">\n",
       "      <th></th>\n",
       "      <th>Book Name</th>\n",
       "      <th>Author Name</th>\n",
       "      <th>Volumes Sold</th>\n",
       "      <th>Publisher</th>\n",
       "      <th>Genre</th>\n",
       "    </tr>\n",
       "    <tr>\n",
       "      <th>Rank</th>\n",
       "      <th></th>\n",
       "      <th></th>\n",
       "      <th></th>\n",
       "      <th></th>\n",
       "      <th></th>\n",
       "    </tr>\n",
       "  </thead>\n",
       "  <tbody>\n",
       "    <tr>\n",
       "      <th>1</th>\n",
       "      <td>Da Vinci Code,The</td>\n",
       "      <td>Brown, Dan</td>\n",
       "      <td>5,094,805</td>\n",
       "      <td>Transworld</td>\n",
       "      <td>Crime, Thriller &amp; Adventure</td>\n",
       "    </tr>\n",
       "    <tr>\n",
       "      <th>2</th>\n",
       "      <td>Harry Potter and the Deathly Hallows</td>\n",
       "      <td>Rowling, J.K.</td>\n",
       "      <td>4,475,152</td>\n",
       "      <td>Bloomsbury</td>\n",
       "      <td>Children's Fiction</td>\n",
       "    </tr>\n",
       "    <tr>\n",
       "      <th>3</th>\n",
       "      <td>Harry Potter and the Philosopher's Stone</td>\n",
       "      <td>Rowling, J.K.</td>\n",
       "      <td>4,200,654</td>\n",
       "      <td>Bloomsbury</td>\n",
       "      <td>Children's Fiction</td>\n",
       "    </tr>\n",
       "    <tr>\n",
       "      <th>4</th>\n",
       "      <td>Harry Potter and the Order of the Phoenix</td>\n",
       "      <td>Rowling, J.K.</td>\n",
       "      <td>4,179,479</td>\n",
       "      <td>Bloomsbury</td>\n",
       "      <td>Children's Fiction</td>\n",
       "    </tr>\n",
       "    <tr>\n",
       "      <th>5</th>\n",
       "      <td>Fifty Shades of Grey</td>\n",
       "      <td>James, E. L.</td>\n",
       "      <td>3,758,936</td>\n",
       "      <td>Random House</td>\n",
       "      <td>Romance &amp; Sagas</td>\n",
       "    </tr>\n",
       "    <tr>\n",
       "      <th>...</th>\n",
       "      <td>...</td>\n",
       "      <td>...</td>\n",
       "      <td>...</td>\n",
       "      <td>...</td>\n",
       "      <td>...</td>\n",
       "    </tr>\n",
       "    <tr>\n",
       "      <th>96</th>\n",
       "      <td>Ghost,The</td>\n",
       "      <td>Harris, Robert</td>\n",
       "      <td>807,311</td>\n",
       "      <td>Random House</td>\n",
       "      <td>General &amp; Literary Fiction</td>\n",
       "    </tr>\n",
       "    <tr>\n",
       "      <th>97</th>\n",
       "      <td>Happy Days with the Naked Chef</td>\n",
       "      <td>Oliver, Jamie</td>\n",
       "      <td>794,201</td>\n",
       "      <td>Penguin</td>\n",
       "      <td>Food &amp; Drink: General</td>\n",
       "    </tr>\n",
       "    <tr>\n",
       "      <th>98</th>\n",
       "      <td>Hunger Games,The:Hunger Games Trilogy</td>\n",
       "      <td>Collins, Suzanne</td>\n",
       "      <td>792,187</td>\n",
       "      <td>Scholastic Ltd.</td>\n",
       "      <td>Young Adult Fiction</td>\n",
       "    </tr>\n",
       "    <tr>\n",
       "      <th>99</th>\n",
       "      <td>Lost Boy,The:A Foster Child's Search for the L...</td>\n",
       "      <td>Pelzer, Dave</td>\n",
       "      <td>791,507</td>\n",
       "      <td>Orion</td>\n",
       "      <td>Biography: General</td>\n",
       "    </tr>\n",
       "    <tr>\n",
       "      <th>100</th>\n",
       "      <td>Jamie's Ministry of Food:Anyone Can Learn to C...</td>\n",
       "      <td>Oliver, Jamie</td>\n",
       "      <td>791,095</td>\n",
       "      <td>Penguin</td>\n",
       "      <td>Food &amp; Drink: General</td>\n",
       "    </tr>\n",
       "  </tbody>\n",
       "</table>\n",
       "<p>100 rows × 5 columns</p>\n",
       "</div>"
      ],
      "text/plain": [
       "                                              Book Name       Author Name  \\\n",
       "Rank                                                                        \n",
       "1                                     Da Vinci Code,The        Brown, Dan   \n",
       "2                  Harry Potter and the Deathly Hallows     Rowling, J.K.   \n",
       "3              Harry Potter and the Philosopher's Stone     Rowling, J.K.   \n",
       "4             Harry Potter and the Order of the Phoenix     Rowling, J.K.   \n",
       "5                                  Fifty Shades of Grey      James, E. L.   \n",
       "...                                                 ...               ...   \n",
       "96                                            Ghost,The    Harris, Robert   \n",
       "97                       Happy Days with the Naked Chef     Oliver, Jamie   \n",
       "98                Hunger Games,The:Hunger Games Trilogy  Collins, Suzanne   \n",
       "99    Lost Boy,The:A Foster Child's Search for the L...      Pelzer, Dave   \n",
       "100   Jamie's Ministry of Food:Anyone Can Learn to C...     Oliver, Jamie   \n",
       "\n",
       "     Volumes Sold        Publisher                        Genre  \n",
       "Rank                                                             \n",
       "1       5,094,805       Transworld  Crime, Thriller & Adventure  \n",
       "2       4,475,152       Bloomsbury           Children's Fiction  \n",
       "3       4,200,654       Bloomsbury           Children's Fiction  \n",
       "4       4,179,479       Bloomsbury           Children's Fiction  \n",
       "5       3,758,936     Random House              Romance & Sagas  \n",
       "...           ...              ...                          ...  \n",
       "96        807,311     Random House   General & Literary Fiction  \n",
       "97        794,201          Penguin        Food & Drink: General  \n",
       "98        792,187  Scholastic Ltd.          Young Adult Fiction  \n",
       "99        791,507            Orion           Biography: General  \n",
       "100       791,095          Penguin        Food & Drink: General  \n",
       "\n",
       "[100 rows x 5 columns]"
      ]
     },
     "execution_count": 45,
     "metadata": {},
     "output_type": "execute_result"
    }
   ],
   "source": [
    "Novels=pd.DataFrame({'Rank':rank,'Book Name':book_name,'Author Name':author_name,'Volumes Sold':volumes_sold,'Publisher':publisher,'Genre':genre})\n",
    "Novels.set_index('Rank',inplace=True)\n",
    "Novels"
   ]
  },
  {
   "cell_type": "markdown",
   "id": "2e043a0b",
   "metadata": {},
   "source": [
    "# 7. Scrape the details most watched tv series of all time from imdb.com.\n",
    "Url = https://www.imdb.com/list/ls095964455/ You have\n",
    "to find the following details:\n",
    "A) Name\n",
    "B) Year span\n",
    "C) Genre\n",
    "D) Run time\n",
    "E) Ratings\n",
    "F) Votes"
   ]
  },
  {
   "cell_type": "code",
   "execution_count": null,
   "id": "2b7ae08a",
   "metadata": {},
   "outputs": [],
   "source": [
    "driver=webdriver.Chrome()\n",
    "driver.get('https://www.imdb.com/list/ls095964455/') #Unable to find anything in this page/showing error"
   ]
  },
  {
   "cell_type": "code",
   "execution_count": 47,
   "id": "bd7efac8",
   "metadata": {},
   "outputs": [],
   "source": [
    "name=[]\n",
    "year_span=[]\n",
    "Genre=[]\n",
    "Run_time=[]\n",
    "Ratings=[]\n",
    "Votes=[]"
   ]
  },
  {
   "cell_type": "markdown",
   "id": "d9cc88a0",
   "metadata": {},
   "source": [
    "# 8. Details of Datasets from UCI machine learning repositories.\n",
    "Url = https://archive.ics.uci.edu/ You\n",
    "have to find the following details:\n",
    "A) Dataset name\n",
    "B) Data type\n",
    "C) Task\n",
    "D) Attribute type\n",
    "E) No of instances\n",
    "F) No of attribute G) Year\n",
    " Note: - from the home page you have to go to the Show All Dataset page through code."
   ]
  },
  {
   "cell_type": "code",
   "execution_count": 48,
   "id": "1f4be7ea",
   "metadata": {},
   "outputs": [],
   "source": [
    "driver=webdriver.Chrome()\n",
    "driver.get('https://archive.ics.uci.edu/ ')"
   ]
  },
  {
   "cell_type": "code",
   "execution_count": 49,
   "id": "eddcceb3",
   "metadata": {},
   "outputs": [],
   "source": [
    "sets=driver.find_element(By.XPATH,'/html/body/div/div[1]/div[1]/main/div/div[1]/div/div/div/a[1]')\n",
    "sets.click()"
   ]
  },
  {
   "cell_type": "code",
   "execution_count": 50,
   "id": "8801a776",
   "metadata": {},
   "outputs": [],
   "source": [
    "datasetname=[]\n",
    "datatype=[]\n",
    "task=[]\n",
    "attributetype=[]\n",
    "numberofinstance=[]\n",
    "numberofattributes=[]\n",
    "years=[]"
   ]
  },
  {
   "cell_type": "code",
   "execution_count": 51,
   "id": "6d2f2551",
   "metadata": {},
   "outputs": [
    {
     "ename": "ElementClickInterceptedException",
     "evalue": "Message: element click intercepted: Element <button class=\"btn-primary btn-sm btn\" aria-label=\"Next Page\">...</button> is not clickable at point (979, 635). Other element would receive the click: <div class=\"alert fixed bottom-0\">...</div>\n  (Session info: chrome=124.0.6367.119)\nStacktrace:\n\tGetHandleVerifier [0x00007FF781E21502+60802]\n\t(No symbol) [0x00007FF781D9AC02]\n\t(No symbol) [0x00007FF781C57CE4]\n\t(No symbol) [0x00007FF781CAE877]\n\t(No symbol) [0x00007FF781CAC344]\n\t(No symbol) [0x00007FF781CA980A]\n\t(No symbol) [0x00007FF781CA89E2]\n\t(No symbol) [0x00007FF781C9AE8B]\n\t(No symbol) [0x00007FF781CCAB7A]\n\t(No symbol) [0x00007FF781C9A7C6]\n\t(No symbol) [0x00007FF781CCAD90]\n\t(No symbol) [0x00007FF781CEA224]\n\t(No symbol) [0x00007FF781CCA923]\n\t(No symbol) [0x00007FF781C98FEC]\n\t(No symbol) [0x00007FF781C99C21]\n\tGetHandleVerifier [0x00007FF78212411D+3217821]\n\tGetHandleVerifier [0x00007FF7821660B7+3488055]\n\tGetHandleVerifier [0x00007FF78215F03F+3459263]\n\tGetHandleVerifier [0x00007FF781EDB846+823494]\n\t(No symbol) [0x00007FF781DA5F9F]\n\t(No symbol) [0x00007FF781DA0EC4]\n\t(No symbol) [0x00007FF781DA1052]\n\t(No symbol) [0x00007FF781D918A4]\n\tBaseThreadInitThunk [0x00007FF87E29257D+29]\n\tRtlUserThreadStart [0x00007FF87F5CAA48+40]\n",
     "output_type": "error",
     "traceback": [
      "\u001b[1;31m---------------------------------------------------------------------------\u001b[0m",
      "\u001b[1;31mElementClickInterceptedException\u001b[0m          Traceback (most recent call last)",
      "Cell \u001b[1;32mIn[51], line 10\u001b[0m\n\u001b[0;32m      8\u001b[0m     url\u001b[38;5;241m.\u001b[39mappend(tag\u001b[38;5;241m.\u001b[39mget_attribute(\u001b[38;5;124m'\u001b[39m\u001b[38;5;124mhref\u001b[39m\u001b[38;5;124m'\u001b[39m))\n\u001b[0;32m      9\u001b[0m next_button\u001b[38;5;241m=\u001b[39mdriver\u001b[38;5;241m.\u001b[39mfind_element(By\u001b[38;5;241m.\u001b[39mXPATH,\u001b[38;5;124m'\u001b[39m\u001b[38;5;124m//button[@class=\u001b[39m\u001b[38;5;124m\"\u001b[39m\u001b[38;5;124mbtn-primary btn-sm btn\u001b[39m\u001b[38;5;124m\"\u001b[39m\u001b[38;5;124m][2]\u001b[39m\u001b[38;5;124m'\u001b[39m)\n\u001b[1;32m---> 10\u001b[0m next_button\u001b[38;5;241m.\u001b[39mclick()\n\u001b[0;32m     11\u001b[0m time\u001b[38;5;241m.\u001b[39msleep(\u001b[38;5;241m2\u001b[39m)\n",
      "File \u001b[1;32m~\\anaconda3\\Lib\\site-packages\\selenium\\webdriver\\remote\\webelement.py:94\u001b[0m, in \u001b[0;36mWebElement.click\u001b[1;34m(self)\u001b[0m\n\u001b[0;32m     92\u001b[0m \u001b[38;5;28;01mdef\u001b[39;00m \u001b[38;5;21mclick\u001b[39m(\u001b[38;5;28mself\u001b[39m) \u001b[38;5;241m-\u001b[39m\u001b[38;5;241m>\u001b[39m \u001b[38;5;28;01mNone\u001b[39;00m:\n\u001b[0;32m     93\u001b[0m \u001b[38;5;250m    \u001b[39m\u001b[38;5;124;03m\"\"\"Clicks the element.\"\"\"\u001b[39;00m\n\u001b[1;32m---> 94\u001b[0m     \u001b[38;5;28mself\u001b[39m\u001b[38;5;241m.\u001b[39m_execute(Command\u001b[38;5;241m.\u001b[39mCLICK_ELEMENT)\n",
      "File \u001b[1;32m~\\anaconda3\\Lib\\site-packages\\selenium\\webdriver\\remote\\webelement.py:395\u001b[0m, in \u001b[0;36mWebElement._execute\u001b[1;34m(self, command, params)\u001b[0m\n\u001b[0;32m    393\u001b[0m     params \u001b[38;5;241m=\u001b[39m {}\n\u001b[0;32m    394\u001b[0m params[\u001b[38;5;124m\"\u001b[39m\u001b[38;5;124mid\u001b[39m\u001b[38;5;124m\"\u001b[39m] \u001b[38;5;241m=\u001b[39m \u001b[38;5;28mself\u001b[39m\u001b[38;5;241m.\u001b[39m_id\n\u001b[1;32m--> 395\u001b[0m \u001b[38;5;28;01mreturn\u001b[39;00m \u001b[38;5;28mself\u001b[39m\u001b[38;5;241m.\u001b[39m_parent\u001b[38;5;241m.\u001b[39mexecute(command, params)\n",
      "File \u001b[1;32m~\\anaconda3\\Lib\\site-packages\\selenium\\webdriver\\remote\\webdriver.py:347\u001b[0m, in \u001b[0;36mWebDriver.execute\u001b[1;34m(self, driver_command, params)\u001b[0m\n\u001b[0;32m    345\u001b[0m response \u001b[38;5;241m=\u001b[39m \u001b[38;5;28mself\u001b[39m\u001b[38;5;241m.\u001b[39mcommand_executor\u001b[38;5;241m.\u001b[39mexecute(driver_command, params)\n\u001b[0;32m    346\u001b[0m \u001b[38;5;28;01mif\u001b[39;00m response:\n\u001b[1;32m--> 347\u001b[0m     \u001b[38;5;28mself\u001b[39m\u001b[38;5;241m.\u001b[39merror_handler\u001b[38;5;241m.\u001b[39mcheck_response(response)\n\u001b[0;32m    348\u001b[0m     response[\u001b[38;5;124m\"\u001b[39m\u001b[38;5;124mvalue\u001b[39m\u001b[38;5;124m\"\u001b[39m] \u001b[38;5;241m=\u001b[39m \u001b[38;5;28mself\u001b[39m\u001b[38;5;241m.\u001b[39m_unwrap_value(response\u001b[38;5;241m.\u001b[39mget(\u001b[38;5;124m\"\u001b[39m\u001b[38;5;124mvalue\u001b[39m\u001b[38;5;124m\"\u001b[39m, \u001b[38;5;28;01mNone\u001b[39;00m))\n\u001b[0;32m    349\u001b[0m     \u001b[38;5;28;01mreturn\u001b[39;00m response\n",
      "File \u001b[1;32m~\\anaconda3\\Lib\\site-packages\\selenium\\webdriver\\remote\\errorhandler.py:229\u001b[0m, in \u001b[0;36mErrorHandler.check_response\u001b[1;34m(self, response)\u001b[0m\n\u001b[0;32m    227\u001b[0m         alert_text \u001b[38;5;241m=\u001b[39m value[\u001b[38;5;124m\"\u001b[39m\u001b[38;5;124malert\u001b[39m\u001b[38;5;124m\"\u001b[39m]\u001b[38;5;241m.\u001b[39mget(\u001b[38;5;124m\"\u001b[39m\u001b[38;5;124mtext\u001b[39m\u001b[38;5;124m\"\u001b[39m)\n\u001b[0;32m    228\u001b[0m     \u001b[38;5;28;01mraise\u001b[39;00m exception_class(message, screen, stacktrace, alert_text)  \u001b[38;5;66;03m# type: ignore[call-arg]  # mypy is not smart enough here\u001b[39;00m\n\u001b[1;32m--> 229\u001b[0m \u001b[38;5;28;01mraise\u001b[39;00m exception_class(message, screen, stacktrace)\n",
      "\u001b[1;31mElementClickInterceptedException\u001b[0m: Message: element click intercepted: Element <button class=\"btn-primary btn-sm btn\" aria-label=\"Next Page\">...</button> is not clickable at point (979, 635). Other element would receive the click: <div class=\"alert fixed bottom-0\">...</div>\n  (Session info: chrome=124.0.6367.119)\nStacktrace:\n\tGetHandleVerifier [0x00007FF781E21502+60802]\n\t(No symbol) [0x00007FF781D9AC02]\n\t(No symbol) [0x00007FF781C57CE4]\n\t(No symbol) [0x00007FF781CAE877]\n\t(No symbol) [0x00007FF781CAC344]\n\t(No symbol) [0x00007FF781CA980A]\n\t(No symbol) [0x00007FF781CA89E2]\n\t(No symbol) [0x00007FF781C9AE8B]\n\t(No symbol) [0x00007FF781CCAB7A]\n\t(No symbol) [0x00007FF781C9A7C6]\n\t(No symbol) [0x00007FF781CCAD90]\n\t(No symbol) [0x00007FF781CEA224]\n\t(No symbol) [0x00007FF781CCA923]\n\t(No symbol) [0x00007FF781C98FEC]\n\t(No symbol) [0x00007FF781C99C21]\n\tGetHandleVerifier [0x00007FF78212411D+3217821]\n\tGetHandleVerifier [0x00007FF7821660B7+3488055]\n\tGetHandleVerifier [0x00007FF78215F03F+3459263]\n\tGetHandleVerifier [0x00007FF781EDB846+823494]\n\t(No symbol) [0x00007FF781DA5F9F]\n\t(No symbol) [0x00007FF781DA0EC4]\n\t(No symbol) [0x00007FF781DA1052]\n\t(No symbol) [0x00007FF781D918A4]\n\tBaseThreadInitThunk [0x00007FF87E29257D+29]\n\tRtlUserThreadStart [0x00007FF87F5CAA48+40]\n"
     ]
    }
   ],
   "source": [
    "start=0\n",
    "end=66\n",
    "url=[]\n",
    "\n",
    "for page in range (start,end):\n",
    "    url_tag=driver.find_elements(By.XPATH,'//h2[@class=\"truncate text-primary\"]/a')\n",
    "    for tag in url_tag:\n",
    "        url.append(tag.get_attribute('href'))\n",
    "    next_button=driver.find_element(By.XPATH,'//button[@class=\"btn-primary btn-sm btn\"][2]')\n",
    "    next_button.click()\n",
    "    time.sleep(2)\n",
    "        "
   ]
  },
  {
   "cell_type": "code",
   "execution_count": null,
   "id": "9ad6e524",
   "metadata": {},
   "outputs": [],
   "source": [
    "len(url)"
   ]
  },
  {
   "cell_type": "code",
   "execution_count": null,
   "id": "e2b8b7f3",
   "metadata": {},
   "outputs": [],
   "source": [
    "for urls in url:\n",
    "    driver.get(urls)\n",
    "    time.sleep(10)\n",
    "    \n",
    "    try:\n",
    "        name_tag=driver.find_element(By.XPATH,'//div[@class=\"flex flex-col\"][1]/div[1]/div[2]/div/h1')\n",
    "        datasetname.append(name_tag.text)\n",
    "    except NoSuchElementException:\n",
    "        datasetname.append('_')\n",
    "        \n",
    "    try:\n",
    "        type_tag=driver.find_element(By.XPATH,'//div[@class=\"col-span-4\"][1]/p')\n",
    "        datatype.append(type_tag.text)\n",
    "    except NoSuchElementException:\n",
    "        datatype.append('_')\n",
    "        \n",
    "    try:\n",
    "        task_tag=driver.find_element(By.XPATH,'//div[@class=\"col-span-4\"][3]/p')\n",
    "        task.append(task_tag.text)\n",
    "        except NoSuchElementException:\n",
    "        task.append('_')\n",
    "        \n",
    "    try:\n",
    "        type_tag=driver.find_element(By.XPATH,'//div[@class=\"col-span-4\"][4]/p')\n",
    "        attributetype.append(type_tag.text)\n",
    "    except NoSuchElementException:\n",
    "        attributetype.append('_')\n",
    "        \n",
    "    try:\n",
    "        instance_tag=driver.find_element(By.XPATH,'//div[@class=\"col-span-4\"][5]/p')\n",
    "        numberofinstance.append(instance_tag.text)\n",
    "    except NoSuchElementException:\n",
    "        numberofinstance.append('_')\n",
    "        \n",
    "    try:\n",
    "        attribute_tag=driver.find_element(By.XPATH,'//div[@class=\"col-span-4\"][6]/p')\n",
    "        numberofattributes.append(attribute_tag.text)\n",
    "    except NoSuchElementException:\n",
    "        numberofattributes.append('_')\n",
    "        \n",
    "    try:\n",
    "        year_tag=driver.find_element(By.XPATH,'//div[@class=\"flex flex-col\"][1]/div[1]/div[2]/h2')\n",
    "        years.append(year_tag.text)\n",
    "    except NoSuchElementException:\n",
    "        years.append('_')\n"
   ]
  },
  {
   "cell_type": "code",
   "execution_count": null,
   "id": "bccf0b93",
   "metadata": {},
   "outputs": [],
   "source": [
    "Years=[i.split(\"/\")[-1] for i in years]"
   ]
  },
  {
   "cell_type": "code",
   "execution_count": null,
   "id": "26ece8c8",
   "metadata": {},
   "outputs": [],
   "source": [
    "len(datasetname),len(datatype),len(task),len(attributetype),len(numberofinstance),len(numberofattributes),len(Years)\n"
   ]
  },
  {
   "cell_type": "code",
   "execution_count": null,
   "id": "dfc1e0be",
   "metadata": {},
   "outputs": [],
   "source": [
    "Dataset=pd.DataFrame({'Dataset name':datasetname,'Data type':datatype,'Task':task,'Attribute type':attributetype,'No of instances':numberofinstance,'No of attribute':numberofattributes,'Year':Years})\n",
    "Dataset"
   ]
  },
  {
   "cell_type": "code",
   "execution_count": null,
   "id": "aac0e171",
   "metadata": {},
   "outputs": [],
   "source": []
  },
  {
   "cell_type": "code",
   "execution_count": null,
   "id": "0bfb89e3",
   "metadata": {},
   "outputs": [],
   "source": []
  }
 ],
 "metadata": {
  "kernelspec": {
   "display_name": "Python 3 (ipykernel)",
   "language": "python",
   "name": "python3"
  },
  "language_info": {
   "codemirror_mode": {
    "name": "ipython",
    "version": 3
   },
   "file_extension": ".py",
   "mimetype": "text/x-python",
   "name": "python",
   "nbconvert_exporter": "python",
   "pygments_lexer": "ipython3",
   "version": "3.11.5"
  }
 },
 "nbformat": 4,
 "nbformat_minor": 5
}
